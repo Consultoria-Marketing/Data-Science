{
  "nbformat": 4,
  "nbformat_minor": 0,
  "metadata": {
    "colab": {
      "name": "Google_Play.ipynb",
      "provenance": [],
      "collapsed_sections": [],
      "mount_file_id": "1lFWKDXsT_aeKqqrqT7_n-8D39fjv4WkO",
      "authorship_tag": "ABX9TyP8QGUEP1jRhGhoRfDEgM99",
      "include_colab_link": true
    },
    "kernelspec": {
      "name": "python3",
      "display_name": "Python 3"
    }
  },
  "cells": [
    {
      "cell_type": "markdown",
      "metadata": {
        "id": "view-in-github",
        "colab_type": "text"
      },
      "source": [
        "<a href=\"https://colab.research.google.com/github/karinnecristina/Data-Science/blob/master/Google_Play.ipynb\" target=\"_parent\"><img src=\"https://colab.research.google.com/assets/colab-badge.svg\" alt=\"Open In Colab\"/></a>"
      ]
    },
    {
      "cell_type": "markdown",
      "metadata": {
        "id": "aq6WvQjWFQ3q",
        "colab_type": "text"
      },
      "source": [
        "#**Análise dos dados da Google Play Store**\n",
        "\n",
        "\n",
        "\n",
        "![alt text](https://drive.google.com/uc?id=1YLGpuCftOiytiBp2GuvrHI0tF5p8axl_)\n",
        "\n",
        "\n",
        "\n"
      ]
    },
    {
      "cell_type": "markdown",
      "metadata": {
        "id": "g0IPMLAQPgQl",
        "colab_type": "text"
      },
      "source": [
        "A Play Store é a loja de aplicativos do Google, é através dela que os usuários de celulares com sistema operacional Android conseguem baixar apps como WhatsApp, Facebook, Spotify, Netflix e vários outros para seus dispositivos. Apesar do uso ser gratuito, ela também conta com ofertas de aplicativos e serviços pagos."
      ]
    },
    {
      "cell_type": "markdown",
      "metadata": {
        "id": "m4FM5u0eRhiO",
        "colab_type": "text"
      },
      "source": [
        "##**Objetivo**\n",
        "\n",
        "Os dados dos aplicativos da Play Store têm um enorme potencial para levar as empresas que desenvolvem essas aplicações ao sucesso.O objetivo deste projeto é analisar esses dados com o intuito de ajudar os desenvolvedores a entender que tipo de aplicativo provavelmente atrairá mais usuários.\n"
      ]
    },
    {
      "cell_type": "markdown",
      "metadata": {
        "id": "IsG7LSeySWZG",
        "colab_type": "text"
      },
      "source": [
        " ### **Obtenção dos Dados**\n",
        "\n",
        "Os dados usados nessa análise são referentes ao ano de 2018 e foram obtidos a partir do site [Kaggle.com](https://www.kaggle.com/lava18/google-play-store-apps)"
      ]
    },
    {
      "cell_type": "code",
      "metadata": {
        "id": "Bebl4ypjPYlk",
        "colab_type": "code",
        "colab": {}
      },
      "source": [
        "# Importando os pacotes necessários\n",
        "import pandas as pd\n",
        "import numpy as np\n",
        "import matplotlib.pyplot as plt\n",
        "import seaborn as sns\n",
        "from wordcloud import WordCloud"
      ],
      "execution_count": 0,
      "outputs": []
    },
    {
      "cell_type": "code",
      "metadata": {
        "id": "eqJhTyulMIgz",
        "colab_type": "code",
        "colab": {}
      },
      "source": [
        "# Lendo o arquivo:\n",
        "df_app = pd.read_csv('/content/drive/My Drive/Curso_Dataquest/googleplaystore.csv')"
      ],
      "execution_count": 0,
      "outputs": []
    },
    {
      "cell_type": "markdown",
      "metadata": {
        "id": "Q1BtWFN6WECG",
        "colab_type": "text"
      },
      "source": [
        " ### **Análise dos Dados**\n",
        "\n",
        "Esta etapa tem por objetivo criar uma consciência situacional inicial e permitir um entendimento de como os dados estão estruturados."
      ]
    },
    {
      "cell_type": "markdown",
      "metadata": {
        "colab_type": "text",
        "id": "1diVzypO1iab"
      },
      "source": [
        "<Enter>\n"
      ]
    },
    {
      "cell_type": "markdown",
      "metadata": {
        "id": "Xo1MEbNtcJ8o",
        "colab_type": "text"
      },
      "source": [
        "**Dicionário das variáveis**\n",
        "\n",
        "* App - Nome do aplicativo\n",
        "* Category - Categoria à qual o aplicativo pertence\n",
        "* Rating - classificação do aplicativo \n",
        "* Reviews - Número de avaliações de usuários do aplicativo\n",
        "* Size - Tamanho do aplicativo\n",
        "* Installs - Número de downloads / instalações de usuário para o aplicativo \n",
        "* Type - Pago ou Gratuito\n",
        "* Price - preço\n",
        "* Content Rating - Faixa etária em que o aplicativo é direcionado - Crianças / maiores de 21 anos / Adulto\n",
        "* Genres - Um aplicativo pode pertencer a vários gêneros (além da categoria principal). Por exemplo, um jogo musical familiar pertence aos gêneros Música, Jogo, Família.\n",
        "* Last Updated - Data em que o aplicativo foi atualizado pela última vez na Play Store\n",
        "* Current Ver - Versão atual do aplicativo disponível na Play Store\n",
        "* Android Ver - Versão mínima exigida do Android"
      ]
    },
    {
      "cell_type": "markdown",
      "metadata": {
        "id": "II-kMx_BezxX",
        "colab_type": "text"
      },
      "source": [
        "Vamos dar uma olhada nas primeiras linhas do Dataframe."
      ]
    },
    {
      "cell_type": "code",
      "metadata": {
        "id": "N651pCxDTuUr",
        "colab_type": "code",
        "outputId": "67f5f08c-0b97-4d20-f8f6-893034ec806b",
        "colab": {
          "base_uri": "https://localhost:8080/",
          "height": 204
        }
      },
      "source": [
        "# Primeiras 5 linhas:\n",
        "df_app.head()"
      ],
      "execution_count": 3,
      "outputs": [
        {
          "output_type": "execute_result",
          "data": {
            "text/html": [
              "<div>\n",
              "<style scoped>\n",
              "    .dataframe tbody tr th:only-of-type {\n",
              "        vertical-align: middle;\n",
              "    }\n",
              "\n",
              "    .dataframe tbody tr th {\n",
              "        vertical-align: top;\n",
              "    }\n",
              "\n",
              "    .dataframe thead th {\n",
              "        text-align: right;\n",
              "    }\n",
              "</style>\n",
              "<table border=\"1\" class=\"dataframe\">\n",
              "  <thead>\n",
              "    <tr style=\"text-align: right;\">\n",
              "      <th></th>\n",
              "      <th>App</th>\n",
              "      <th>Category</th>\n",
              "      <th>Rating</th>\n",
              "      <th>Reviews</th>\n",
              "      <th>Size</th>\n",
              "      <th>Installs</th>\n",
              "      <th>Type</th>\n",
              "      <th>Price</th>\n",
              "      <th>Content Rating</th>\n",
              "      <th>Genres</th>\n",
              "      <th>Last Updated</th>\n",
              "      <th>Current Ver</th>\n",
              "      <th>Android Ver</th>\n",
              "    </tr>\n",
              "  </thead>\n",
              "  <tbody>\n",
              "    <tr>\n",
              "      <th>0</th>\n",
              "      <td>Photo Editor &amp; Candy Camera &amp; Grid &amp; ScrapBook</td>\n",
              "      <td>ART_AND_DESIGN</td>\n",
              "      <td>4.1</td>\n",
              "      <td>159</td>\n",
              "      <td>19M</td>\n",
              "      <td>10,000+</td>\n",
              "      <td>Free</td>\n",
              "      <td>0</td>\n",
              "      <td>Everyone</td>\n",
              "      <td>Art &amp; Design</td>\n",
              "      <td>January 7, 2018</td>\n",
              "      <td>1.0.0</td>\n",
              "      <td>4.0.3 and up</td>\n",
              "    </tr>\n",
              "    <tr>\n",
              "      <th>1</th>\n",
              "      <td>Coloring book moana</td>\n",
              "      <td>ART_AND_DESIGN</td>\n",
              "      <td>3.9</td>\n",
              "      <td>967</td>\n",
              "      <td>14M</td>\n",
              "      <td>500,000+</td>\n",
              "      <td>Free</td>\n",
              "      <td>0</td>\n",
              "      <td>Everyone</td>\n",
              "      <td>Art &amp; Design;Pretend Play</td>\n",
              "      <td>January 15, 2018</td>\n",
              "      <td>2.0.0</td>\n",
              "      <td>4.0.3 and up</td>\n",
              "    </tr>\n",
              "    <tr>\n",
              "      <th>2</th>\n",
              "      <td>U Launcher Lite – FREE Live Cool Themes, Hide ...</td>\n",
              "      <td>ART_AND_DESIGN</td>\n",
              "      <td>4.7</td>\n",
              "      <td>87510</td>\n",
              "      <td>8.7M</td>\n",
              "      <td>5,000,000+</td>\n",
              "      <td>Free</td>\n",
              "      <td>0</td>\n",
              "      <td>Everyone</td>\n",
              "      <td>Art &amp; Design</td>\n",
              "      <td>August 1, 2018</td>\n",
              "      <td>1.2.4</td>\n",
              "      <td>4.0.3 and up</td>\n",
              "    </tr>\n",
              "    <tr>\n",
              "      <th>3</th>\n",
              "      <td>Sketch - Draw &amp; Paint</td>\n",
              "      <td>ART_AND_DESIGN</td>\n",
              "      <td>4.5</td>\n",
              "      <td>215644</td>\n",
              "      <td>25M</td>\n",
              "      <td>50,000,000+</td>\n",
              "      <td>Free</td>\n",
              "      <td>0</td>\n",
              "      <td>Teen</td>\n",
              "      <td>Art &amp; Design</td>\n",
              "      <td>June 8, 2018</td>\n",
              "      <td>Varies with device</td>\n",
              "      <td>4.2 and up</td>\n",
              "    </tr>\n",
              "    <tr>\n",
              "      <th>4</th>\n",
              "      <td>Pixel Draw - Number Art Coloring Book</td>\n",
              "      <td>ART_AND_DESIGN</td>\n",
              "      <td>4.3</td>\n",
              "      <td>967</td>\n",
              "      <td>2.8M</td>\n",
              "      <td>100,000+</td>\n",
              "      <td>Free</td>\n",
              "      <td>0</td>\n",
              "      <td>Everyone</td>\n",
              "      <td>Art &amp; Design;Creativity</td>\n",
              "      <td>June 20, 2018</td>\n",
              "      <td>1.1</td>\n",
              "      <td>4.4 and up</td>\n",
              "    </tr>\n",
              "  </tbody>\n",
              "</table>\n",
              "</div>"
            ],
            "text/plain": [
              "                                                 App  ...   Android Ver\n",
              "0     Photo Editor & Candy Camera & Grid & ScrapBook  ...  4.0.3 and up\n",
              "1                                Coloring book moana  ...  4.0.3 and up\n",
              "2  U Launcher Lite – FREE Live Cool Themes, Hide ...  ...  4.0.3 and up\n",
              "3                              Sketch - Draw & Paint  ...    4.2 and up\n",
              "4              Pixel Draw - Number Art Coloring Book  ...    4.4 and up\n",
              "\n",
              "[5 rows x 13 columns]"
            ]
          },
          "metadata": {
            "tags": []
          },
          "execution_count": 3
        }
      ]
    },
    {
      "cell_type": "markdown",
      "metadata": {
        "id": "BqTSheRTELDs",
        "colab_type": "text"
      },
      "source": [
        "###**Quantos linhas e quantas colunas o nosso conjunto de dados possui? Quais os tipos das variáveis?**"
      ]
    },
    {
      "cell_type": "code",
      "metadata": {
        "id": "DLaxvR0VEcB2",
        "colab_type": "code",
        "outputId": "3ab4fb05-3984-4bd6-a2eb-8622deeb42b9",
        "colab": {
          "base_uri": "https://localhost:8080/",
          "height": 306
        }
      },
      "source": [
        "# Tamanho do Dataframe:\n",
        "print(f'Número de linhas: {len(df_app.index)}')\n",
        "print(f'Número de colunas: {len(df_app.columns)}\\n')\n",
        "\n",
        "# Identificando o tipo de cada variável:\n",
        "display(df_app.dtypes)"
      ],
      "execution_count": 4,
      "outputs": [
        {
          "output_type": "stream",
          "text": [
            "Número de linhas: 10841\n",
            "Número de colunas: 13\n",
            "\n"
          ],
          "name": "stdout"
        },
        {
          "output_type": "display_data",
          "data": {
            "text/plain": [
              "App                object\n",
              "Category           object\n",
              "Rating            float64\n",
              "Reviews            object\n",
              "Size               object\n",
              "Installs           object\n",
              "Type               object\n",
              "Price              object\n",
              "Content Rating     object\n",
              "Genres             object\n",
              "Last Updated       object\n",
              "Current Ver        object\n",
              "Android Ver        object\n",
              "dtype: object"
            ]
          },
          "metadata": {
            "tags": []
          }
        }
      ]
    },
    {
      "cell_type": "markdown",
      "metadata": {
        "id": "pTCcchjBCb8m",
        "colab_type": "text"
      },
      "source": [
        "#**Limpeza e transformação dos dados**"
      ]
    },
    {
      "cell_type": "markdown",
      "metadata": {
        "id": "v9vkmZZJRvT4",
        "colab_type": "text"
      },
      "source": [
        "Precisamos garantir que os dados que estamos analisando sejam precisos, caso contrário, os resultados de nossa análise estarão errados."
      ]
    },
    {
      "cell_type": "code",
      "metadata": {
        "id": "1urEzkoTHUGE",
        "colab_type": "code",
        "outputId": "0458661c-3d32-45c9-e50c-a4df4deaba69",
        "colab": {
          "base_uri": "https://localhost:8080/",
          "height": 204
        }
      },
      "source": [
        "# Corrigindo o nome das colunas:\n",
        "df_app.columns = df_app.columns.str.replace(' ', '_')\n",
        "\n",
        "# Visualizando os dados novamente:\n",
        "df_app.head()"
      ],
      "execution_count": 5,
      "outputs": [
        {
          "output_type": "execute_result",
          "data": {
            "text/html": [
              "<div>\n",
              "<style scoped>\n",
              "    .dataframe tbody tr th:only-of-type {\n",
              "        vertical-align: middle;\n",
              "    }\n",
              "\n",
              "    .dataframe tbody tr th {\n",
              "        vertical-align: top;\n",
              "    }\n",
              "\n",
              "    .dataframe thead th {\n",
              "        text-align: right;\n",
              "    }\n",
              "</style>\n",
              "<table border=\"1\" class=\"dataframe\">\n",
              "  <thead>\n",
              "    <tr style=\"text-align: right;\">\n",
              "      <th></th>\n",
              "      <th>App</th>\n",
              "      <th>Category</th>\n",
              "      <th>Rating</th>\n",
              "      <th>Reviews</th>\n",
              "      <th>Size</th>\n",
              "      <th>Installs</th>\n",
              "      <th>Type</th>\n",
              "      <th>Price</th>\n",
              "      <th>Content_Rating</th>\n",
              "      <th>Genres</th>\n",
              "      <th>Last_Updated</th>\n",
              "      <th>Current_Ver</th>\n",
              "      <th>Android_Ver</th>\n",
              "    </tr>\n",
              "  </thead>\n",
              "  <tbody>\n",
              "    <tr>\n",
              "      <th>0</th>\n",
              "      <td>Photo Editor &amp; Candy Camera &amp; Grid &amp; ScrapBook</td>\n",
              "      <td>ART_AND_DESIGN</td>\n",
              "      <td>4.1</td>\n",
              "      <td>159</td>\n",
              "      <td>19M</td>\n",
              "      <td>10,000+</td>\n",
              "      <td>Free</td>\n",
              "      <td>0</td>\n",
              "      <td>Everyone</td>\n",
              "      <td>Art &amp; Design</td>\n",
              "      <td>January 7, 2018</td>\n",
              "      <td>1.0.0</td>\n",
              "      <td>4.0.3 and up</td>\n",
              "    </tr>\n",
              "    <tr>\n",
              "      <th>1</th>\n",
              "      <td>Coloring book moana</td>\n",
              "      <td>ART_AND_DESIGN</td>\n",
              "      <td>3.9</td>\n",
              "      <td>967</td>\n",
              "      <td>14M</td>\n",
              "      <td>500,000+</td>\n",
              "      <td>Free</td>\n",
              "      <td>0</td>\n",
              "      <td>Everyone</td>\n",
              "      <td>Art &amp; Design;Pretend Play</td>\n",
              "      <td>January 15, 2018</td>\n",
              "      <td>2.0.0</td>\n",
              "      <td>4.0.3 and up</td>\n",
              "    </tr>\n",
              "    <tr>\n",
              "      <th>2</th>\n",
              "      <td>U Launcher Lite – FREE Live Cool Themes, Hide ...</td>\n",
              "      <td>ART_AND_DESIGN</td>\n",
              "      <td>4.7</td>\n",
              "      <td>87510</td>\n",
              "      <td>8.7M</td>\n",
              "      <td>5,000,000+</td>\n",
              "      <td>Free</td>\n",
              "      <td>0</td>\n",
              "      <td>Everyone</td>\n",
              "      <td>Art &amp; Design</td>\n",
              "      <td>August 1, 2018</td>\n",
              "      <td>1.2.4</td>\n",
              "      <td>4.0.3 and up</td>\n",
              "    </tr>\n",
              "    <tr>\n",
              "      <th>3</th>\n",
              "      <td>Sketch - Draw &amp; Paint</td>\n",
              "      <td>ART_AND_DESIGN</td>\n",
              "      <td>4.5</td>\n",
              "      <td>215644</td>\n",
              "      <td>25M</td>\n",
              "      <td>50,000,000+</td>\n",
              "      <td>Free</td>\n",
              "      <td>0</td>\n",
              "      <td>Teen</td>\n",
              "      <td>Art &amp; Design</td>\n",
              "      <td>June 8, 2018</td>\n",
              "      <td>Varies with device</td>\n",
              "      <td>4.2 and up</td>\n",
              "    </tr>\n",
              "    <tr>\n",
              "      <th>4</th>\n",
              "      <td>Pixel Draw - Number Art Coloring Book</td>\n",
              "      <td>ART_AND_DESIGN</td>\n",
              "      <td>4.3</td>\n",
              "      <td>967</td>\n",
              "      <td>2.8M</td>\n",
              "      <td>100,000+</td>\n",
              "      <td>Free</td>\n",
              "      <td>0</td>\n",
              "      <td>Everyone</td>\n",
              "      <td>Art &amp; Design;Creativity</td>\n",
              "      <td>June 20, 2018</td>\n",
              "      <td>1.1</td>\n",
              "      <td>4.4 and up</td>\n",
              "    </tr>\n",
              "  </tbody>\n",
              "</table>\n",
              "</div>"
            ],
            "text/plain": [
              "                                                 App  ...   Android_Ver\n",
              "0     Photo Editor & Candy Camera & Grid & ScrapBook  ...  4.0.3 and up\n",
              "1                                Coloring book moana  ...  4.0.3 and up\n",
              "2  U Launcher Lite – FREE Live Cool Themes, Hide ...  ...  4.0.3 and up\n",
              "3                              Sketch - Draw & Paint  ...    4.2 and up\n",
              "4              Pixel Draw - Number Art Coloring Book  ...    4.4 and up\n",
              "\n",
              "[5 rows x 13 columns]"
            ]
          },
          "metadata": {
            "tags": []
          },
          "execution_count": 5
        }
      ]
    },
    {
      "cell_type": "markdown",
      "metadata": {
        "id": "HastMHr0vsx2",
        "colab_type": "text"
      },
      "source": [
        "Vou iniciar a análise verificando se há registos duplicados no Dataframe, pois não nos interessa analisar o mesmo aplicativo mais de uma vez."
      ]
    },
    {
      "cell_type": "code",
      "metadata": {
        "id": "I3j3DLpwiztF",
        "colab_type": "code",
        "outputId": "7937685d-4fad-479a-f93b-714716d61dc7",
        "colab": {
          "base_uri": "https://localhost:8080/",
          "height": 34
        }
      },
      "source": [
        "# Verificando valores duplicados:\n",
        "if any(df_app.App.duplicated()) is True:\n",
        "   print(f'Existe valores duplicados na coluna \"App\"? {True}')\n",
        "else:\n",
        "   print(f'Existe valores duplicados na coluna \"App\"? {False}')"
      ],
      "execution_count": 6,
      "outputs": [
        {
          "output_type": "stream",
          "text": [
            "Existe valores duplicados na coluna \"App\"? True\n"
          ],
          "name": "stdout"
        }
      ]
    },
    {
      "cell_type": "markdown",
      "metadata": {
        "id": "TvXL33nRMUdO",
        "colab_type": "text"
      },
      "source": [
        "Bom, infelizmente temos registros duplicados, portanto, precisamos remover essas entradas duplicadas e manter apenas uma entrada por aplicativo. Uma coisa que poderíamos fazer é remover as linhas duplicadas aleatoriamente, mas vamos encontrar uma maneira melhor."
      ]
    },
    {
      "cell_type": "markdown",
      "metadata": {
        "id": "J9aTYnOvwV87",
        "colab_type": "text"
      },
      "source": [
        "Quanto maior o número de \"Reviews\", mais recentes devem ser os dados. Em vez de remover duplicatas aleatoriamente, manteremos apenas a linha com o maior número de avaliações e removeremos as outras entradas."
      ]
    },
    {
      "cell_type": "markdown",
      "metadata": {
        "id": "UiDVYGJ1NEyG",
        "colab_type": "text"
      },
      "source": [
        "Não sabemos a ordem dos registros e se não ordenarmos podemos correr o risco de eliminar um aplicativo que tem uma avaliação alta. Para ordenar pelo número de \"Reviews\" precisamos mudar seu tipo de dado para numérico. Quando tentei fazer a transformação recebi o seguinte erro **\"ValueError: invalid literal for int() with base 10: '3.0M'\"**.\n",
        "Vamos identificar quais linhas têm esse problema:"
      ]
    },
    {
      "cell_type": "code",
      "metadata": {
        "id": "iEejF9opJbZ-",
        "colab_type": "code",
        "outputId": "1b2aa75d-533b-4f76-f8f5-93230a8d054c",
        "colab": {
          "base_uri": "https://localhost:8080/",
          "height": 80
        }
      },
      "source": [
        "# Identificando registro:\n",
        "df_app[~df_app.Reviews.str.isnumeric()]"
      ],
      "execution_count": 7,
      "outputs": [
        {
          "output_type": "execute_result",
          "data": {
            "text/html": [
              "<div>\n",
              "<style scoped>\n",
              "    .dataframe tbody tr th:only-of-type {\n",
              "        vertical-align: middle;\n",
              "    }\n",
              "\n",
              "    .dataframe tbody tr th {\n",
              "        vertical-align: top;\n",
              "    }\n",
              "\n",
              "    .dataframe thead th {\n",
              "        text-align: right;\n",
              "    }\n",
              "</style>\n",
              "<table border=\"1\" class=\"dataframe\">\n",
              "  <thead>\n",
              "    <tr style=\"text-align: right;\">\n",
              "      <th></th>\n",
              "      <th>App</th>\n",
              "      <th>Category</th>\n",
              "      <th>Rating</th>\n",
              "      <th>Reviews</th>\n",
              "      <th>Size</th>\n",
              "      <th>Installs</th>\n",
              "      <th>Type</th>\n",
              "      <th>Price</th>\n",
              "      <th>Content_Rating</th>\n",
              "      <th>Genres</th>\n",
              "      <th>Last_Updated</th>\n",
              "      <th>Current_Ver</th>\n",
              "      <th>Android_Ver</th>\n",
              "    </tr>\n",
              "  </thead>\n",
              "  <tbody>\n",
              "    <tr>\n",
              "      <th>10472</th>\n",
              "      <td>Life Made WI-Fi Touchscreen Photo Frame</td>\n",
              "      <td>1.9</td>\n",
              "      <td>19.0</td>\n",
              "      <td>3.0M</td>\n",
              "      <td>1,000+</td>\n",
              "      <td>Free</td>\n",
              "      <td>0</td>\n",
              "      <td>Everyone</td>\n",
              "      <td>NaN</td>\n",
              "      <td>February 11, 2018</td>\n",
              "      <td>1.0.19</td>\n",
              "      <td>4.0 and up</td>\n",
              "      <td>NaN</td>\n",
              "    </tr>\n",
              "  </tbody>\n",
              "</table>\n",
              "</div>"
            ],
            "text/plain": [
              "                                           App Category  ...  Current_Ver Android_Ver\n",
              "10472  Life Made WI-Fi Touchscreen Photo Frame      1.9  ...   4.0 and up         NaN\n",
              "\n",
              "[1 rows x 13 columns]"
            ]
          },
          "metadata": {
            "tags": []
          },
          "execution_count": 7
        }
      ]
    },
    {
      "cell_type": "markdown",
      "metadata": {
        "id": "5QWuNw2lTbIX",
        "colab_type": "text"
      },
      "source": [
        "Apenas um dos registros possue esse problema além disso os registros das outras colunas estão inconsistentes, na coluna \"Category\" por exemplo essa linha possui um valor de 1.9, então vou remover essa linha e transformar o tipo do dado.\n"
      ]
    },
    {
      "cell_type": "code",
      "metadata": {
        "id": "VROUWKDjJf8S",
        "colab_type": "code",
        "colab": {}
      },
      "source": [
        "# Removendo o registro:\n",
        "df_app.drop(df_app.index[10472], inplace=True)"
      ],
      "execution_count": 0,
      "outputs": []
    },
    {
      "cell_type": "code",
      "metadata": {
        "id": "YHFD6iEvJ-7k",
        "colab_type": "code",
        "colab": {}
      },
      "source": [
        "# Convertendo o tipo dos dados:\n",
        "df_app.Reviews = pd.to_numeric(df_app.Reviews)"
      ],
      "execution_count": 0,
      "outputs": []
    },
    {
      "cell_type": "markdown",
      "metadata": {
        "id": "ixwdFvTWVV0-",
        "colab_type": "text"
      },
      "source": [
        "Agora vou remover os valores duplicados mantendo os registros que tem a avaliação mais alta."
      ]
    },
    {
      "cell_type": "code",
      "metadata": {
        "id": "eMDxULD4pbEe",
        "colab_type": "code",
        "colab": {}
      },
      "source": [
        "# Removendo os aplicativos duplicados:\n",
        "df_app = df_app.sort_values(by='Reviews', ascending=False).drop_duplicates('App', keep='first')\n",
        "\n",
        "# Reorganizando os indices:\n",
        "df_app = df_app.reset_index(drop=True)"
      ],
      "execution_count": 0,
      "outputs": []
    },
    {
      "cell_type": "code",
      "metadata": {
        "id": "Psgq8OUQ2fC3",
        "colab_type": "code",
        "outputId": "94f966f5-a4c5-4a26-a6fb-80bc1378be77",
        "colab": {
          "base_uri": "https://localhost:8080/",
          "height": 204
        }
      },
      "source": [
        "df_app.head()"
      ],
      "execution_count": 11,
      "outputs": [
        {
          "output_type": "execute_result",
          "data": {
            "text/html": [
              "<div>\n",
              "<style scoped>\n",
              "    .dataframe tbody tr th:only-of-type {\n",
              "        vertical-align: middle;\n",
              "    }\n",
              "\n",
              "    .dataframe tbody tr th {\n",
              "        vertical-align: top;\n",
              "    }\n",
              "\n",
              "    .dataframe thead th {\n",
              "        text-align: right;\n",
              "    }\n",
              "</style>\n",
              "<table border=\"1\" class=\"dataframe\">\n",
              "  <thead>\n",
              "    <tr style=\"text-align: right;\">\n",
              "      <th></th>\n",
              "      <th>App</th>\n",
              "      <th>Category</th>\n",
              "      <th>Rating</th>\n",
              "      <th>Reviews</th>\n",
              "      <th>Size</th>\n",
              "      <th>Installs</th>\n",
              "      <th>Type</th>\n",
              "      <th>Price</th>\n",
              "      <th>Content_Rating</th>\n",
              "      <th>Genres</th>\n",
              "      <th>Last_Updated</th>\n",
              "      <th>Current_Ver</th>\n",
              "      <th>Android_Ver</th>\n",
              "    </tr>\n",
              "  </thead>\n",
              "  <tbody>\n",
              "    <tr>\n",
              "      <th>0</th>\n",
              "      <td>Facebook</td>\n",
              "      <td>SOCIAL</td>\n",
              "      <td>4.1</td>\n",
              "      <td>78158306</td>\n",
              "      <td>Varies with device</td>\n",
              "      <td>1,000,000,000+</td>\n",
              "      <td>Free</td>\n",
              "      <td>0</td>\n",
              "      <td>Teen</td>\n",
              "      <td>Social</td>\n",
              "      <td>August 3, 2018</td>\n",
              "      <td>Varies with device</td>\n",
              "      <td>Varies with device</td>\n",
              "    </tr>\n",
              "    <tr>\n",
              "      <th>1</th>\n",
              "      <td>WhatsApp Messenger</td>\n",
              "      <td>COMMUNICATION</td>\n",
              "      <td>4.4</td>\n",
              "      <td>69119316</td>\n",
              "      <td>Varies with device</td>\n",
              "      <td>1,000,000,000+</td>\n",
              "      <td>Free</td>\n",
              "      <td>0</td>\n",
              "      <td>Everyone</td>\n",
              "      <td>Communication</td>\n",
              "      <td>August 3, 2018</td>\n",
              "      <td>Varies with device</td>\n",
              "      <td>Varies with device</td>\n",
              "    </tr>\n",
              "    <tr>\n",
              "      <th>2</th>\n",
              "      <td>Instagram</td>\n",
              "      <td>SOCIAL</td>\n",
              "      <td>4.5</td>\n",
              "      <td>66577446</td>\n",
              "      <td>Varies with device</td>\n",
              "      <td>1,000,000,000+</td>\n",
              "      <td>Free</td>\n",
              "      <td>0</td>\n",
              "      <td>Teen</td>\n",
              "      <td>Social</td>\n",
              "      <td>July 31, 2018</td>\n",
              "      <td>Varies with device</td>\n",
              "      <td>Varies with device</td>\n",
              "    </tr>\n",
              "    <tr>\n",
              "      <th>3</th>\n",
              "      <td>Messenger – Text and Video Chat for Free</td>\n",
              "      <td>COMMUNICATION</td>\n",
              "      <td>4.0</td>\n",
              "      <td>56646578</td>\n",
              "      <td>Varies with device</td>\n",
              "      <td>1,000,000,000+</td>\n",
              "      <td>Free</td>\n",
              "      <td>0</td>\n",
              "      <td>Everyone</td>\n",
              "      <td>Communication</td>\n",
              "      <td>August 1, 2018</td>\n",
              "      <td>Varies with device</td>\n",
              "      <td>Varies with device</td>\n",
              "    </tr>\n",
              "    <tr>\n",
              "      <th>4</th>\n",
              "      <td>Clash of Clans</td>\n",
              "      <td>GAME</td>\n",
              "      <td>4.6</td>\n",
              "      <td>44893888</td>\n",
              "      <td>98M</td>\n",
              "      <td>100,000,000+</td>\n",
              "      <td>Free</td>\n",
              "      <td>0</td>\n",
              "      <td>Everyone 10+</td>\n",
              "      <td>Strategy</td>\n",
              "      <td>July 15, 2018</td>\n",
              "      <td>10.322.16</td>\n",
              "      <td>4.1 and up</td>\n",
              "    </tr>\n",
              "  </tbody>\n",
              "</table>\n",
              "</div>"
            ],
            "text/plain": [
              "                                        App  ...         Android_Ver\n",
              "0                                  Facebook  ...  Varies with device\n",
              "1                        WhatsApp Messenger  ...  Varies with device\n",
              "2                                 Instagram  ...  Varies with device\n",
              "3  Messenger – Text and Video Chat for Free  ...  Varies with device\n",
              "4                            Clash of Clans  ...          4.1 and up\n",
              "\n",
              "[5 rows x 13 columns]"
            ]
          },
          "metadata": {
            "tags": []
          },
          "execution_count": 11
        }
      ]
    },
    {
      "cell_type": "markdown",
      "metadata": {
        "id": "07hZDxIGYQPX",
        "colab_type": "text"
      },
      "source": [
        "Vamos analisar mais a fundo cada um dos atributos."
      ]
    },
    {
      "cell_type": "markdown",
      "metadata": {
        "id": "RPjqfFgLbzK9",
        "colab_type": "text"
      },
      "source": [
        "##*Size*"
      ]
    },
    {
      "cell_type": "code",
      "metadata": {
        "id": "sPbSVaAgdHK1",
        "colab_type": "code",
        "outputId": "419157a8-2d3c-4e78-a53a-2d774b3215a2",
        "colab": {
          "base_uri": "https://localhost:8080/",
          "height": 986
        }
      },
      "source": [
        "# Valores únicos:\n",
        "display(df_app.Size.unique())"
      ],
      "execution_count": 12,
      "outputs": [
        {
          "output_type": "display_data",
          "data": {
            "text/plain": [
              "array(['Varies with device', '98M', '76M', '97M', '74M', '40M', '52M',\n",
              "       '14M', '15M', '88M', '24M', '85M', '94M', '99M', '63M', '92M',\n",
              "       '17M', '62M', '71M', '34M', '95M', '67M', '58M', '100M', '59M',\n",
              "       '53M', '96M', '16M', '26M', '41M', '9.9M', '51M', '32M', '11M',\n",
              "       '55M', '60M', '79M', '69M', '42M', '77M', '57M', '82M', '75M',\n",
              "       '36M', '3.3M', '68M', '22M', '7.6M', '50M', '33M', '7.4M', '89M',\n",
              "       '18M', '25M', '78M', '46M', '49M', '9.7M', '37M', '72M', '39M',\n",
              "       '87M', '6.1M', '5.1M', '70M', '28M', '29M', '61M', '7.1M', '48M',\n",
              "       '21M', '35M', '54M', '12M', '56M', '3.8M', '8.7M', '91M', '27M',\n",
              "       '45M', '66M', '31M', '4.7M', '8.2M', '43M', '13M', '47M', '20M',\n",
              "       '80M', '6.6M', '3.1M', '6.5M', '9.1M', '30M', '7.9M', '4.2M',\n",
              "       '44M', '4.4M', '93M', '8.9M', '83M', '3.5M', '73M', '90M', '9.8M',\n",
              "       '19M', '9.2M', '64M', '1.5M', '5.2M', '23M', '5.3M', '2.5M', '10M',\n",
              "       '2.7M', '2.1M', '86M', '4.9M', '2.9M', '9.0M', '8.4M', '7.3M',\n",
              "       '3.7M', '6.7M', '5.0M', '4.0M', '8.1M', '6.0M', '2.8M', '8.3M',\n",
              "       '1.8M', '4.6M', '6.3M', '8.5M', '38M', '1.4M', '4.3M', '4.1M',\n",
              "       '84M', '6.9M', '1.9M', '1.2M', '9.4M', '9.5M', '8.8M', '81M',\n",
              "       '5.4M', '6.4M', '3.0M', '3.2M', '7.5M', '65M', '4.5M', '525k',\n",
              "       '1.6M', '5.7M', '5.6M', '624k', '9.6M', '695k', '79k', '7.0M',\n",
              "       '2.3M', '2.0M', '551k', '2.6M', '6.2M', '3.9M', '5.9M', '8.6M',\n",
              "       '5.8M', '2.2M', '544k', '853k', '2.4M', '7.2M', '4.8M', '7.7M',\n",
              "       '865k', '232k', '6.8M', '3.6M', '3.4M', '7.8M', '1.3M', '9.3M',\n",
              "       '41k', '176k', '8.0M', '5.5M', '208k', '540k', '1.7M', '50k',\n",
              "       '872k', '860k', '173k', '10.0M', '351k', '982k', '11k', '373k',\n",
              "       '253k', '713k', '118k', '847k', '93k', '696k', '1.1M', '364k',\n",
              "       '201k', '292k', '72k', '592k', '17k', '609k', '656k', '318k',\n",
              "       '23k', '266k', '756k', '467k', '585k', '818k', '192k', '953k',\n",
              "       '103k', '716k', '948k', '779k', '20k', '485k', '209k', '778k',\n",
              "       '58k', '241k', '33k', '1.0M', '582k', '350k', '746k', '190k',\n",
              "       '404k', '196k', '643k', '91k', '73k', '720k', '411k', '387k',\n",
              "       '383k', '552k', '70k', '323k', '309k', '444k', '61k', '809k',\n",
              "       '556k', '837k', '175k', '704k', '314k', '903k', '288k', '597k',\n",
              "       '420k', '29k', '965k', '161k', '562k', '920k', '526k', '930k',\n",
              "       '306k', '122k', '676k', '313k', '914k', '25k', '74k', '454k',\n",
              "       '153k', '785k', '647k', '714k', '193k', '203k', '160k', '626k',\n",
              "       '976k', '8.5k', '221k', '371k', '811k', '899k', '730k', '78k',\n",
              "       '116k', '219k', '957k', '48k', '816k', '170k', '144k', '375k',\n",
              "       '257k', '784k', '226k', '240k', '26k', '442k', '141k', '400k',\n",
              "       '45k', '27k', '429k', '143k', '980k', '782k', '598k', '924k',\n",
              "       '335k', '939k', '601k', '459k', '414k', '812k', '787k', '322k',\n",
              "       '329k', '412k', '691k', '334k', '951k', '499k', '728k', '470k',\n",
              "       '54k', '417k', '18k', '28k', '186k', '259k', '245k', '506k',\n",
              "       '430k', '51k', '879k', '270k', '842k', '619k', '34k', '554k',\n",
              "       '986k', '353k', '881k', '251k', '916k', '862k', '24k', '473k',\n",
              "       '280k', '857k', '239k', '437k', '206k', '228k', '14k', '721k',\n",
              "       '887k', '121k', '772k', '600k', '975k', '44k', '478k', '283k',\n",
              "       '954k', '801k', '82k', '545k', '210k', '200k', '376k', '317k',\n",
              "       '496k', '994k', '157k', '963k', '67k', '523k', '246k', '293k',\n",
              "       '743k', '460k', '164k', '754k', '500k', '942k', '613k', '775k',\n",
              "       '608k', '220k', '378k', '717k', '516k', '780k', '169k', '992k',\n",
              "       '658k', '749k', '39k', '308k', '81k', '89k', '234k', '458k',\n",
              "       '629k', '636k', '902k', '861k', '840k', '892k', '569k', '511k',\n",
              "       '498k', '108k', '154k', '319k', '961k', '55k', '97k', '970k',\n",
              "       '705k', '981k', '238k', '885k', '663k', '172k', '921k', '874k',\n",
              "       '514k', '421k', '237k', '683k', '655k', '222k', '191k', '269k',\n",
              "       '243k', '642k', '898k', '913k', '1020k', '518k', '549k', '688k',\n",
              "       '475k', '940k', '904k'], dtype=object)"
            ]
          },
          "metadata": {
            "tags": []
          }
        }
      ]
    },
    {
      "cell_type": "markdown",
      "metadata": {
        "id": "0dAOkGDvcysR",
        "colab_type": "text"
      },
      "source": [
        "O tamanho do aplicativo está no formato \"string\". Precisamos convertê-lo em um valor numérico. Se o tamanho estiver acompanhado da string \"k\" (exemplo:\"512k\"), que representa o tamanho do aplicativo em kilobytes, o \"k\" deve ser removido e o tamanho deve ser convertido em um equivalente a 'megabytes'. Depois removemos a string \"M\", mudamos a string \"Varies with device\" para NaN e por último transformamos o tipo de dado para numérico.\n"
      ]
    },
    {
      "cell_type": "code",
      "metadata": {
        "id": "GnPEPSpfbxth",
        "colab_type": "code",
        "colab": {}
      },
      "source": [
        "# Limpeza da coluna:\n",
        "df_app.Size = df_app.Size.map(lambda x: str (round ((float (x.rstrip ('k')) / 1024), 1)) if x [-1] == 'k' else x) \n",
        "df_app.Size = df_app.Size.map(lambda x: x.rstrip ('M'))\n",
        "df_app.Size = df_app.Size.map(lambda x: np.nan if x.startswith ('Varies') else x) \n",
        "df_app.Size = df_app.Size.astype(float)"
      ],
      "execution_count": 0,
      "outputs": []
    },
    {
      "cell_type": "code",
      "metadata": {
        "id": "Gh8dJ6cMP9ov",
        "colab_type": "code",
        "colab": {}
      },
      "source": [
        "# Preenchendo os registros nulos:\n",
        "df_app.Size.fillna(df_app.groupby('Category')['Size'].transform('mean'),inplace = True)"
      ],
      "execution_count": 0,
      "outputs": []
    },
    {
      "cell_type": "markdown",
      "metadata": {
        "id": "_Nhq24EWpT5Y",
        "colab_type": "text"
      },
      "source": [
        "##*Installs*\n"
      ]
    },
    {
      "cell_type": "code",
      "metadata": {
        "id": "jzs2lIPxaw1Q",
        "colab_type": "code",
        "outputId": "e507f949-de84-4649-c053-eca0945f3800",
        "colab": {
          "base_uri": "https://localhost:8080/",
          "height": 391
        }
      },
      "source": [
        "df_app.Installs.value_counts()"
      ],
      "execution_count": 15,
      "outputs": [
        {
          "output_type": "execute_result",
          "data": {
            "text/plain": [
              "1,000,000+        1417\n",
              "100,000+          1113\n",
              "10,000+           1030\n",
              "10,000,000+        937\n",
              "1,000+             887\n",
              "100+               709\n",
              "5,000,000+         607\n",
              "500,000+           504\n",
              "50,000+            469\n",
              "5,000+             468\n",
              "10+                385\n",
              "500+               328\n",
              "50+                204\n",
              "50,000,000+        204\n",
              "100,000,000+       189\n",
              "5+                  82\n",
              "1+                  67\n",
              "500,000,000+        24\n",
              "1,000,000,000+      20\n",
              "0+                  14\n",
              "0                    1\n",
              "Name: Installs, dtype: int64"
            ]
          },
          "metadata": {
            "tags": []
          },
          "execution_count": 15
        }
      ]
    },
    {
      "cell_type": "markdown",
      "metadata": {
        "id": "88Beg00tajW1",
        "colab_type": "text"
      },
      "source": [
        "Os números de instalação não parecem precisos o suficiente, podemos ver que a maioria dos valores é (100+, 1.000+, 5.000+ etc.).\n",
        "\n",
        "Não sabemos se um aplicativo com mais de 100.000 instalações possui 100.000 instalações, 200.000 ou 350.000. Posteriormente vamos tentar descobrir quais gêneros de aplicativos atraem mais usuários e para esse propósito não iremos precisar de uma precisão perfeita em relação ao número de usuários.\n",
        "\n",
        "Vamos deixar os números como estão, o que significa que iremos considerar que um aplicativo com mais de 100.000 instalações possui 100.000 instalações e um aplicativo com mais de 1.000.000 instalações possui 1.000.000 instalações e assim por diante. \n",
        "\n",
        "Para realizar esses cálculos, no entanto, vamos precisar converter cada valor de instalação que está como string para número. Isso significa que precisamos remover as vírgulas e os demais caracteres, caso contrário, a conversão falhará e causará um erro."
      ]
    },
    {
      "cell_type": "code",
      "metadata": {
        "id": "t4HE2hNOS1sD",
        "colab_type": "code",
        "outputId": "e0506c67-1a76-4f24-de4a-e7a512c2ac1b",
        "colab": {
          "base_uri": "https://localhost:8080/",
          "height": 374
        }
      },
      "source": [
        "# Limpando os dados e convertendo os valores:\n",
        "df_app.Installs = df_app.Installs.apply(lambda x: x.strip('+'))\n",
        "df_app.Installs= df_app.Installs.apply(lambda x: x.replace(',',''))\n",
        "df_app.Installs = pd.to_numeric(df_app.Installs)\n",
        "df_app.Installs.value_counts()"
      ],
      "execution_count": 16,
      "outputs": [
        {
          "output_type": "execute_result",
          "data": {
            "text/plain": [
              "1000000       1417\n",
              "100000        1113\n",
              "10000         1030\n",
              "10000000       937\n",
              "1000           887\n",
              "100            709\n",
              "5000000        607\n",
              "500000         504\n",
              "50000          469\n",
              "5000           468\n",
              "10             385\n",
              "500            328\n",
              "50000000       204\n",
              "50             204\n",
              "100000000      189\n",
              "5               82\n",
              "1               67\n",
              "500000000       24\n",
              "1000000000      20\n",
              "0               15\n",
              "Name: Installs, dtype: int64"
            ]
          },
          "metadata": {
            "tags": []
          },
          "execution_count": 16
        }
      ]
    },
    {
      "cell_type": "markdown",
      "metadata": {
        "id": "4ExgP8Vrg_rL",
        "colab_type": "text"
      },
      "source": [
        "##*Price*"
      ]
    },
    {
      "cell_type": "code",
      "metadata": {
        "id": "MA1PY2sTVwu5",
        "colab_type": "code",
        "outputId": "8b9946d7-f384-45a2-b711-6b90dd88ac8f",
        "colab": {
          "base_uri": "https://localhost:8080/",
          "height": 255
        }
      },
      "source": [
        "# Valores únicos da coluna \"Price\"\n",
        "df_app.Price.unique()"
      ],
      "execution_count": 17,
      "outputs": [
        {
          "output_type": "execute_result",
          "data": {
            "text/plain": [
              "array(['0', '$6.99', '$0.99', '$2.99', '$1.99', '$2.49', '$4.99', '$5.99',\n",
              "       '$4.49', '$9.99', '$3.99', '$1.49', '$3.95', '$7.99', '$3.49',\n",
              "       '$8.99', '$13.99', '$19.99', '$11.99', '$12.99', '$2.90', '$17.99',\n",
              "       '$399.99', '$29.99', '$14.99', '$2.95', '$4.77', '$24.99', '$3.90',\n",
              "       '$2.50', '$3.28', '$1.20', '$2.59', '$9.00', '$1.59', '$1.00',\n",
              "       '$5.49', '$18.99', '$299.99', '$1.97', '$400.00', '$16.99',\n",
              "       '$389.99', '$33.99', '$10.00', '$10.99', '$4.84', '$37.99',\n",
              "       '$1.61', '$8.49', '$4.60', '$79.99', '$4.29', '$1.70', '$1.50',\n",
              "       '$1.29', '$19.40', '$3.08', '$379.99', '$2.56', '$15.46', '$7.49',\n",
              "       '$4.59', '$2.00', '$14.00', '$6.49', '$15.99', '$74.99', '$3.88',\n",
              "       '$3.02', '$39.99', '$89.99', '$5.00', '$1.75', '$1.26', '$2.60',\n",
              "       '$19.90', '$4.80', '$1.76', '$46.99', '$3.04', '$4.85', '$30.99',\n",
              "       '$3.61', '$154.99', '$394.99', '$109.99', '$1.96', '$1.04',\n",
              "       '$28.99', '$25.99', '$200.00'], dtype=object)"
            ]
          },
          "metadata": {
            "tags": []
          },
          "execution_count": 17
        }
      ]
    },
    {
      "cell_type": "markdown",
      "metadata": {
        "id": "JJv-djQDhGrV",
        "colab_type": "text"
      },
      "source": [
        "O preço está no formato de \"string\". Primeiro precisamos remover o cifrão   para depois convertê-lo em formato numérico."
      ]
    },
    {
      "cell_type": "code",
      "metadata": {
        "id": "STt9fsv4V-sP",
        "colab_type": "code",
        "colab": {}
      },
      "source": [
        "# Removendo o símbolo monetário e transformando o tipo de dado:\n",
        "df_app.Price=df_app.Price.apply(lambda x: x.replace('$','') if '$' in str(x) else x)\n",
        "df_app.Price = pd.to_numeric(df_app.Price)"
      ],
      "execution_count": 0,
      "outputs": []
    },
    {
      "cell_type": "markdown",
      "metadata": {
        "id": "7czLF_2UjDEK",
        "colab_type": "text"
      },
      "source": [
        "##*Content_Rating*"
      ]
    },
    {
      "cell_type": "code",
      "metadata": {
        "id": "uiNaWmtgb1Wz",
        "colab_type": "code",
        "outputId": "aa889ff5-1fdd-43d2-a0a0-65dba8ebee47",
        "colab": {
          "base_uri": "https://localhost:8080/",
          "height": 51
        }
      },
      "source": [
        "# Valores únicos da coluna:\n",
        "df_app.Content_Rating.unique()"
      ],
      "execution_count": 19,
      "outputs": [
        {
          "output_type": "execute_result",
          "data": {
            "text/plain": [
              "array(['Teen', 'Everyone', 'Everyone 10+', 'Mature 17+',\n",
              "       'Adults only 18+', 'Unrated'], dtype=object)"
            ]
          },
          "metadata": {
            "tags": []
          },
          "execution_count": 19
        }
      ]
    },
    {
      "cell_type": "markdown",
      "metadata": {
        "id": "QpjsBoLehddz",
        "colab_type": "text"
      },
      "source": [
        "**'Unrated'** quer dizer sem classificação, não foi informado para que tipo de público esse app foi disponibilizado, vamos identificar quais são esses aplicativos:-"
      ]
    },
    {
      "cell_type": "code",
      "metadata": {
        "id": "WRJ7_g-3b-Gi",
        "colab_type": "code",
        "outputId": "4dc61d4d-ace7-4043-b9e9-6d9e5b5ee4e5",
        "colab": {
          "base_uri": "https://localhost:8080/",
          "height": 111
        }
      },
      "source": [
        "# Identificando os aplicativos:\n",
        "df_app.loc[(df_app.Content_Rating == \"Unrated\")]"
      ],
      "execution_count": 20,
      "outputs": [
        {
          "output_type": "execute_result",
          "data": {
            "text/html": [
              "<div>\n",
              "<style scoped>\n",
              "    .dataframe tbody tr th:only-of-type {\n",
              "        vertical-align: middle;\n",
              "    }\n",
              "\n",
              "    .dataframe tbody tr th {\n",
              "        vertical-align: top;\n",
              "    }\n",
              "\n",
              "    .dataframe thead th {\n",
              "        text-align: right;\n",
              "    }\n",
              "</style>\n",
              "<table border=\"1\" class=\"dataframe\">\n",
              "  <thead>\n",
              "    <tr style=\"text-align: right;\">\n",
              "      <th></th>\n",
              "      <th>App</th>\n",
              "      <th>Category</th>\n",
              "      <th>Rating</th>\n",
              "      <th>Reviews</th>\n",
              "      <th>Size</th>\n",
              "      <th>Installs</th>\n",
              "      <th>Type</th>\n",
              "      <th>Price</th>\n",
              "      <th>Content_Rating</th>\n",
              "      <th>Genres</th>\n",
              "      <th>Last_Updated</th>\n",
              "      <th>Current_Ver</th>\n",
              "      <th>Android_Ver</th>\n",
              "    </tr>\n",
              "  </thead>\n",
              "  <tbody>\n",
              "    <tr>\n",
              "      <th>4714</th>\n",
              "      <td>DC Universe Online Map</td>\n",
              "      <td>TOOLS</td>\n",
              "      <td>4.1</td>\n",
              "      <td>1186</td>\n",
              "      <td>6.4</td>\n",
              "      <td>50000</td>\n",
              "      <td>Free</td>\n",
              "      <td>0.0</td>\n",
              "      <td>Unrated</td>\n",
              "      <td>Tools</td>\n",
              "      <td>February 27, 2012</td>\n",
              "      <td>1.3</td>\n",
              "      <td>2.3.3 and up</td>\n",
              "    </tr>\n",
              "    <tr>\n",
              "      <th>8977</th>\n",
              "      <td>Best CG Photography</td>\n",
              "      <td>FAMILY</td>\n",
              "      <td>NaN</td>\n",
              "      <td>1</td>\n",
              "      <td>2.5</td>\n",
              "      <td>500</td>\n",
              "      <td>Free</td>\n",
              "      <td>0.0</td>\n",
              "      <td>Unrated</td>\n",
              "      <td>Entertainment</td>\n",
              "      <td>June 24, 2015</td>\n",
              "      <td>5.2</td>\n",
              "      <td>3.0 and up</td>\n",
              "    </tr>\n",
              "  </tbody>\n",
              "</table>\n",
              "</div>"
            ],
            "text/plain": [
              "                         App Category  ...  Current_Ver   Android_Ver\n",
              "4714  DC Universe Online Map    TOOLS  ...          1.3  2.3.3 and up\n",
              "8977     Best CG Photography   FAMILY  ...          5.2    3.0 and up\n",
              "\n",
              "[2 rows x 13 columns]"
            ]
          },
          "metadata": {
            "tags": []
          },
          "execution_count": 20
        }
      ]
    },
    {
      "cell_type": "markdown",
      "metadata": {
        "id": "69qLRFF4ikdS",
        "colab_type": "text"
      },
      "source": [
        "Vamos remover essas duas linhas"
      ]
    },
    {
      "cell_type": "code",
      "metadata": {
        "id": "liEvilM0cZlY",
        "colab_type": "code",
        "colab": {}
      },
      "source": [
        "# Removendo as linhas:\n",
        "df_app.drop(df_app.index[[4714,8977]], inplace=True)"
      ],
      "execution_count": 0,
      "outputs": []
    },
    {
      "cell_type": "markdown",
      "metadata": {
        "id": "qnqo6Np6PDLu",
        "colab_type": "text"
      },
      "source": [
        "##*Genres*"
      ]
    },
    {
      "cell_type": "code",
      "metadata": {
        "id": "aWJe9jJj76As",
        "colab_type": "code",
        "outputId": "06ae2827-11c2-423d-f4d3-8d280ad1971b",
        "colab": {
          "base_uri": "https://localhost:8080/",
          "height": 816
        }
      },
      "source": [
        "df_app.Genres.unique()"
      ],
      "execution_count": 22,
      "outputs": [
        {
          "output_type": "execute_result",
          "data": {
            "text/plain": [
              "array(['Social', 'Communication', 'Strategy', 'Tools', 'Arcade',\n",
              "       'Video Players & Editors', 'Casual', 'Sports', 'News & Magazines',\n",
              "       'Action', 'Photography', 'Adventure', 'Casual;Action & Adventure',\n",
              "       'Travel & Local', 'Racing', 'Personalization', 'Maps & Navigation',\n",
              "       'Entertainment', 'Trivia', 'Education;Education', 'Shopping',\n",
              "       'Productivity', 'Health & Fitness', 'Adventure;Action & Adventure',\n",
              "       'Simulation', 'Books & Reference', 'Lifestyle', 'Role Playing',\n",
              "       'Arcade;Action & Adventure', 'Weather', 'Puzzle', 'Casino', 'Card',\n",
              "       'Word', 'Puzzle;Action & Adventure', 'Sports;Action & Adventure',\n",
              "       'Board', 'Finance', 'Puzzle;Brain Games',\n",
              "       'Racing;Action & Adventure', 'Business', 'Education',\n",
              "       'Food & Drink', 'Educational;Pretend Play', 'Comics',\n",
              "       'Card;Action & Adventure', 'Music',\n",
              "       'Educational;Action & Adventure', 'Parenting',\n",
              "       'Simulation;Action & Adventure', 'Role Playing;Action & Adventure',\n",
              "       'Action;Action & Adventure', 'Dating',\n",
              "       'Entertainment;Music & Video', 'House & Home',\n",
              "       'Entertainment;Creativity', 'Casual;Pretend Play',\n",
              "       'Tools;Education', 'Libraries & Demo', 'Casual;Creativity',\n",
              "       'Art & Design', 'Adventure;Education', 'Education;Brain Games',\n",
              "       'Auto & Vehicles', 'Entertainment;Brain Games',\n",
              "       'Video Players & Editors;Creativity', 'Medical',\n",
              "       'Role Playing;Pretend Play', 'Role Playing;Brain Games',\n",
              "       'Lifestyle;Pretend Play', 'Strategy;Creativity',\n",
              "       'Entertainment;Action & Adventure',\n",
              "       'Video Players & Editors;Music & Video', 'Beauty',\n",
              "       'Educational;Education', 'Educational', 'Puzzle;Creativity',\n",
              "       'Board;Action & Adventure', 'Simulation;Pretend Play',\n",
              "       'Entertainment;Pretend Play', 'Education;Pretend Play',\n",
              "       'Educational;Brain Games', 'Music;Music & Video',\n",
              "       'Casual;Brain Games', 'Events', 'Casual;Music & Video',\n",
              "       'Education;Music & Video', 'Simulation;Education',\n",
              "       'Health & Fitness;Action & Adventure', 'Arcade;Pretend Play',\n",
              "       'Strategy;Action & Adventure', 'Educational;Creativity',\n",
              "       'Art & Design;Creativity', 'Casual;Education',\n",
              "       'Parenting;Music & Video', 'Education;Creativity',\n",
              "       'Education;Action & Adventure', 'Health & Fitness;Education',\n",
              "       'Entertainment;Education', 'Adventure;Brain Games',\n",
              "       'Parenting;Education', 'Board;Brain Games',\n",
              "       'Parenting;Brain Games', 'Communication;Creativity',\n",
              "       'Lifestyle;Education', 'Racing;Pretend Play', 'Strategy;Education',\n",
              "       'Music & Audio;Music & Video', 'Art & Design;Pretend Play',\n",
              "       'Travel & Local;Action & Adventure', 'Puzzle;Education',\n",
              "       'Comics;Creativity', 'Books & Reference;Education',\n",
              "       'Art & Design;Action & Adventure', 'Books & Reference;Creativity',\n",
              "       'Trivia;Education', 'Board;Pretend Play', 'Role Playing;Education'],\n",
              "      dtype=object)"
            ]
          },
          "metadata": {
            "tags": []
          },
          "execution_count": 22
        }
      ]
    },
    {
      "cell_type": "markdown",
      "metadata": {
        "id": "b-sfvj7aApW3",
        "colab_type": "text"
      },
      "source": [
        "\n",
        "Os dados estão no formato Categoria; Subcategoria. Vamos dividi-los e extrair apenas a categoria principal. "
      ]
    },
    {
      "cell_type": "code",
      "metadata": {
        "id": "sFDcmm9y8e9U",
        "colab_type": "code",
        "outputId": "1e1e6706-82b8-4768-9f66-f9bcc4e00375",
        "colab": {
          "base_uri": "https://localhost:8080/",
          "height": 204
        }
      },
      "source": [
        "# Extraindo a categoria principal:\n",
        "df_app.Genres = df_app.Genres.str.split(';').str[0]\n",
        "df_app.Genres.unique()"
      ],
      "execution_count": 23,
      "outputs": [
        {
          "output_type": "execute_result",
          "data": {
            "text/plain": [
              "array(['Social', 'Communication', 'Strategy', 'Tools', 'Arcade',\n",
              "       'Video Players & Editors', 'Casual', 'Sports', 'News & Magazines',\n",
              "       'Action', 'Photography', 'Adventure', 'Travel & Local', 'Racing',\n",
              "       'Personalization', 'Maps & Navigation', 'Entertainment', 'Trivia',\n",
              "       'Education', 'Shopping', 'Productivity', 'Health & Fitness',\n",
              "       'Simulation', 'Books & Reference', 'Lifestyle', 'Role Playing',\n",
              "       'Weather', 'Puzzle', 'Casino', 'Card', 'Word', 'Board', 'Finance',\n",
              "       'Business', 'Food & Drink', 'Educational', 'Comics', 'Music',\n",
              "       'Parenting', 'Dating', 'House & Home', 'Libraries & Demo',\n",
              "       'Art & Design', 'Auto & Vehicles', 'Medical', 'Beauty', 'Events',\n",
              "       'Music & Audio'], dtype=object)"
            ]
          },
          "metadata": {
            "tags": []
          },
          "execution_count": 23
        }
      ]
    },
    {
      "cell_type": "markdown",
      "metadata": {
        "id": "_q25_yW0lZn4",
        "colab_type": "text"
      },
      "source": [
        "Observe que entre as categorias temos \"Music & Audio\" e \"Music\", que na verdade são a mesma coisa, vamos corrigir isso."
      ]
    },
    {
      "cell_type": "code",
      "metadata": {
        "id": "62DFi395lL2n",
        "colab_type": "code",
        "outputId": "a61c448a-6795-44a9-8326-153598d7d6f1",
        "colab": {
          "base_uri": "https://localhost:8080/",
          "height": 204
        }
      },
      "source": [
        "# Corrigindo o nome da categoria.\n",
        "df_app.Genres.replace(['Music & Audio'], 'Music',inplace =True)\n",
        "df_app.Genres.unique()"
      ],
      "execution_count": 24,
      "outputs": [
        {
          "output_type": "execute_result",
          "data": {
            "text/plain": [
              "array(['Social', 'Communication', 'Strategy', 'Tools', 'Arcade',\n",
              "       'Video Players & Editors', 'Casual', 'Sports', 'News & Magazines',\n",
              "       'Action', 'Photography', 'Adventure', 'Travel & Local', 'Racing',\n",
              "       'Personalization', 'Maps & Navigation', 'Entertainment', 'Trivia',\n",
              "       'Education', 'Shopping', 'Productivity', 'Health & Fitness',\n",
              "       'Simulation', 'Books & Reference', 'Lifestyle', 'Role Playing',\n",
              "       'Weather', 'Puzzle', 'Casino', 'Card', 'Word', 'Board', 'Finance',\n",
              "       'Business', 'Food & Drink', 'Educational', 'Comics', 'Music',\n",
              "       'Parenting', 'Dating', 'House & Home', 'Libraries & Demo',\n",
              "       'Art & Design', 'Auto & Vehicles', 'Medical', 'Beauty', 'Events'],\n",
              "      dtype=object)"
            ]
          },
          "metadata": {
            "tags": []
          },
          "execution_count": 24
        }
      ]
    },
    {
      "cell_type": "markdown",
      "metadata": {
        "id": "rAD7QHB1h1uL",
        "colab_type": "text"
      },
      "source": [
        "##*Last_Update*"
      ]
    },
    {
      "cell_type": "markdown",
      "metadata": {
        "id": "WDjfAVImh6i0",
        "colab_type": "text"
      },
      "source": [
        "Vamos mudar o tipo de dado dessa coluna de string para date. Depois criar uma nova coluna chamada \"Last_Updated_Days\" que conterá a diferença entre a data da última atualização e hoje, assim podemos analisar quanto tempo (em dias) faz que esse aplicativo foi atualizado.\n"
      ]
    },
    {
      "cell_type": "code",
      "metadata": {
        "id": "OglsFa48bbY6",
        "colab_type": "code",
        "colab": {}
      },
      "source": [
        "# Convertendo a data de string para date.\n",
        "from datetime import datetime,date\n",
        "temp = pd.to_datetime(df_app.Last_Updated)"
      ],
      "execution_count": 0,
      "outputs": []
    },
    {
      "cell_type": "code",
      "metadata": {
        "id": "j7UTj8G7kwkd",
        "colab_type": "code",
        "outputId": "aed4ba94-0f67-423f-9bd9-a9881e3f8827",
        "colab": {
          "base_uri": "https://localhost:8080/",
          "height": 204
        }
      },
      "source": [
        "# Criando a nova coluna:\n",
        "df_app['Last_Updated_Days'] = temp.apply(lambda x:date.today()-datetime.date(x))\n",
        "df_app.head()"
      ],
      "execution_count": 26,
      "outputs": [
        {
          "output_type": "execute_result",
          "data": {
            "text/html": [
              "<div>\n",
              "<style scoped>\n",
              "    .dataframe tbody tr th:only-of-type {\n",
              "        vertical-align: middle;\n",
              "    }\n",
              "\n",
              "    .dataframe tbody tr th {\n",
              "        vertical-align: top;\n",
              "    }\n",
              "\n",
              "    .dataframe thead th {\n",
              "        text-align: right;\n",
              "    }\n",
              "</style>\n",
              "<table border=\"1\" class=\"dataframe\">\n",
              "  <thead>\n",
              "    <tr style=\"text-align: right;\">\n",
              "      <th></th>\n",
              "      <th>App</th>\n",
              "      <th>Category</th>\n",
              "      <th>Rating</th>\n",
              "      <th>Reviews</th>\n",
              "      <th>Size</th>\n",
              "      <th>Installs</th>\n",
              "      <th>Type</th>\n",
              "      <th>Price</th>\n",
              "      <th>Content_Rating</th>\n",
              "      <th>Genres</th>\n",
              "      <th>Last_Updated</th>\n",
              "      <th>Current_Ver</th>\n",
              "      <th>Android_Ver</th>\n",
              "      <th>Last_Updated_Days</th>\n",
              "    </tr>\n",
              "  </thead>\n",
              "  <tbody>\n",
              "    <tr>\n",
              "      <th>0</th>\n",
              "      <td>Facebook</td>\n",
              "      <td>SOCIAL</td>\n",
              "      <td>4.1</td>\n",
              "      <td>78158306</td>\n",
              "      <td>15.983598</td>\n",
              "      <td>1000000000</td>\n",
              "      <td>Free</td>\n",
              "      <td>0.0</td>\n",
              "      <td>Teen</td>\n",
              "      <td>Social</td>\n",
              "      <td>August 3, 2018</td>\n",
              "      <td>Varies with device</td>\n",
              "      <td>Varies with device</td>\n",
              "      <td>583 days</td>\n",
              "    </tr>\n",
              "    <tr>\n",
              "      <th>1</th>\n",
              "      <td>WhatsApp Messenger</td>\n",
              "      <td>COMMUNICATION</td>\n",
              "      <td>4.4</td>\n",
              "      <td>69119316</td>\n",
              "      <td>11.306198</td>\n",
              "      <td>1000000000</td>\n",
              "      <td>Free</td>\n",
              "      <td>0.0</td>\n",
              "      <td>Everyone</td>\n",
              "      <td>Communication</td>\n",
              "      <td>August 3, 2018</td>\n",
              "      <td>Varies with device</td>\n",
              "      <td>Varies with device</td>\n",
              "      <td>583 days</td>\n",
              "    </tr>\n",
              "    <tr>\n",
              "      <th>2</th>\n",
              "      <td>Instagram</td>\n",
              "      <td>SOCIAL</td>\n",
              "      <td>4.5</td>\n",
              "      <td>66577446</td>\n",
              "      <td>15.983598</td>\n",
              "      <td>1000000000</td>\n",
              "      <td>Free</td>\n",
              "      <td>0.0</td>\n",
              "      <td>Teen</td>\n",
              "      <td>Social</td>\n",
              "      <td>July 31, 2018</td>\n",
              "      <td>Varies with device</td>\n",
              "      <td>Varies with device</td>\n",
              "      <td>586 days</td>\n",
              "    </tr>\n",
              "    <tr>\n",
              "      <th>3</th>\n",
              "      <td>Messenger – Text and Video Chat for Free</td>\n",
              "      <td>COMMUNICATION</td>\n",
              "      <td>4.0</td>\n",
              "      <td>56646578</td>\n",
              "      <td>11.306198</td>\n",
              "      <td>1000000000</td>\n",
              "      <td>Free</td>\n",
              "      <td>0.0</td>\n",
              "      <td>Everyone</td>\n",
              "      <td>Communication</td>\n",
              "      <td>August 1, 2018</td>\n",
              "      <td>Varies with device</td>\n",
              "      <td>Varies with device</td>\n",
              "      <td>585 days</td>\n",
              "    </tr>\n",
              "    <tr>\n",
              "      <th>4</th>\n",
              "      <td>Clash of Clans</td>\n",
              "      <td>GAME</td>\n",
              "      <td>4.6</td>\n",
              "      <td>44893888</td>\n",
              "      <td>98.000000</td>\n",
              "      <td>100000000</td>\n",
              "      <td>Free</td>\n",
              "      <td>0.0</td>\n",
              "      <td>Everyone 10+</td>\n",
              "      <td>Strategy</td>\n",
              "      <td>July 15, 2018</td>\n",
              "      <td>10.322.16</td>\n",
              "      <td>4.1 and up</td>\n",
              "      <td>602 days</td>\n",
              "    </tr>\n",
              "  </tbody>\n",
              "</table>\n",
              "</div>"
            ],
            "text/plain": [
              "                                        App  ... Last_Updated_Days\n",
              "0                                  Facebook  ...          583 days\n",
              "1                        WhatsApp Messenger  ...          583 days\n",
              "2                                 Instagram  ...          586 days\n",
              "3  Messenger – Text and Video Chat for Free  ...          585 days\n",
              "4                            Clash of Clans  ...          602 days\n",
              "\n",
              "[5 rows x 14 columns]"
            ]
          },
          "metadata": {
            "tags": []
          },
          "execution_count": 26
        }
      ]
    },
    {
      "cell_type": "markdown",
      "metadata": {
        "id": "uYdjt9TXpdSg",
        "colab_type": "text"
      },
      "source": [
        "##*Android_Ver*"
      ]
    },
    {
      "cell_type": "code",
      "metadata": {
        "id": "JjG00Fw9gmy7",
        "colab_type": "code",
        "outputId": "4ed81ca6-e758-486e-bb06-4b53393f515e",
        "colab": {
          "base_uri": "https://localhost:8080/",
          "height": 170
        }
      },
      "source": [
        "df_app.Android_Ver.unique()"
      ],
      "execution_count": 27,
      "outputs": [
        {
          "output_type": "execute_result",
          "data": {
            "text/plain": [
              "array(['Varies with device', '4.1 and up', '4.0 and up', '4.0.3 and up',\n",
              "       '3.0 and up', '4.4 and up', '4.2 and up', '2.3 and up',\n",
              "       '4.3 and up', '5.0 and up', '2.3.3 and up', '2.1 and up',\n",
              "       '3.1 and up', '2.0.1 and up', '2.0 and up', '4.1 - 7.1.1',\n",
              "       '2.2 and up', '6.0 and up', '5.0 - 8.0', '1.5 and up',\n",
              "       '4.0.3 - 7.1.1', '1.6 and up', '7.1 and up', '7.0 and up',\n",
              "       '3.2 and up', '5.1 and up', '8.0 and up', '5.0 - 6.0',\n",
              "       '1.0 and up', '4.4W and up', nan, '7.0 - 7.1.1', '2.2 - 7.1.1',\n",
              "       '5.0 - 7.1.1'], dtype=object)"
            ]
          },
          "metadata": {
            "tags": []
          },
          "execution_count": 27
        }
      ]
    },
    {
      "cell_type": "markdown",
      "metadata": {
        "id": "NBzqO2CkpbtN",
        "colab_type": "text"
      },
      "source": [
        "A maioria dos valores tem um valor inferior e um valor superior (ou seja, um intervalo), mas o que nos interessa é saber a versão miníma que um dispositivo deve ter para que esse aplicativo funcione."
      ]
    },
    {
      "cell_type": "code",
      "metadata": {
        "id": "cz4YfC51h6r1",
        "colab_type": "code",
        "colab": {}
      },
      "source": [
        "# Extraindo a versão miníma:\n",
        "df_app.Android_Ver = df_app.Android_Ver.apply(lambda x:str(x).split(' and ')[0].split(' - ')[0])\n",
        "df_app.Android_Ver = df_app.Android_Ver.replace('4.4W','4.4')"
      ],
      "execution_count": 0,
      "outputs": []
    },
    {
      "cell_type": "code",
      "metadata": {
        "id": "1bMkc0kiqkNY",
        "colab_type": "code",
        "outputId": "bae1f68a-5e16-4aa1-86df-dc268e2e076e",
        "colab": {
          "base_uri": "https://localhost:8080/",
          "height": 85
        }
      },
      "source": [
        "df_app.Android_Ver.unique()"
      ],
      "execution_count": 29,
      "outputs": [
        {
          "output_type": "execute_result",
          "data": {
            "text/plain": [
              "array(['Varies with device', '4.1', '4.0', '4.0.3', '3.0', '4.4', '4.2',\n",
              "       '2.3', '4.3', '5.0', '2.3.3', '2.1', '3.1', '2.0.1', '2.0', '2.2',\n",
              "       '6.0', '1.5', '1.6', '7.1', '7.0', '3.2', '5.1', '8.0', '1.0',\n",
              "       'nan'], dtype=object)"
            ]
          },
          "metadata": {
            "tags": []
          },
          "execution_count": 29
        }
      ]
    },
    {
      "cell_type": "markdown",
      "metadata": {
        "id": "dAwrpXQCT49f",
        "colab_type": "text"
      },
      "source": [
        "A coluna \"Current_ver\" não será usada em nossa análise."
      ]
    },
    {
      "cell_type": "code",
      "metadata": {
        "id": "uYEWLDx0gdfj",
        "colab_type": "code",
        "colab": {}
      },
      "source": [
        "# Dropando as colunas irrelevantes:\n",
        "def remove_features(lista_features):\n",
        "    for i in lista_features:\n",
        "        df_app.drop(i,axis=1,inplace=True)\n",
        "remove_features(['Current_Ver'])"
      ],
      "execution_count": 0,
      "outputs": []
    },
    {
      "cell_type": "markdown",
      "metadata": {
        "id": "AFUCfEsNKcrm",
        "colab_type": "text"
      },
      "source": [
        "###**Qual a porcentagem de valores ausentes no dataset?**\n",
        "\n",
        "Vamos analisar se a quantidade de valores nulos são siginificativos comparados ao total de entradas.\n"
      ]
    },
    {
      "cell_type": "code",
      "metadata": {
        "id": "0Go4eMNYgPv7",
        "colab_type": "code",
        "colab": {}
      },
      "source": [
        "def missing_value(dataset):\n",
        "  \"\"\" Porcentagem e total de valores faltantes de cada coluna, ordenando do maior para o menor \"\"\"\n",
        "  total = dataset.isnull().sum().sort_values(ascending=False)\n",
        "  percent = dataset.isnull().sum()/dataset.isnull().count().sort_values(ascending=False)\n",
        "  missing_data = pd.concat([total, percent], axis=1, sort=False, keys=['total', 'percent'])\n",
        "  missing_data[missing_data['percent']!=0]\n",
        "  return missing_data"
      ],
      "execution_count": 0,
      "outputs": []
    },
    {
      "cell_type": "code",
      "metadata": {
        "id": "pVRBDxjohq3q",
        "colab_type": "code",
        "outputId": "69a5f919-9684-483b-a890-6a717ed1c574",
        "colab": {
          "base_uri": "https://localhost:8080/",
          "height": 452
        }
      },
      "source": [
        "missing_value(df_app)"
      ],
      "execution_count": 32,
      "outputs": [
        {
          "output_type": "execute_result",
          "data": {
            "text/html": [
              "<div>\n",
              "<style scoped>\n",
              "    .dataframe tbody tr th:only-of-type {\n",
              "        vertical-align: middle;\n",
              "    }\n",
              "\n",
              "    .dataframe tbody tr th {\n",
              "        vertical-align: top;\n",
              "    }\n",
              "\n",
              "    .dataframe thead th {\n",
              "        text-align: right;\n",
              "    }\n",
              "</style>\n",
              "<table border=\"1\" class=\"dataframe\">\n",
              "  <thead>\n",
              "    <tr style=\"text-align: right;\">\n",
              "      <th></th>\n",
              "      <th>total</th>\n",
              "      <th>percent</th>\n",
              "    </tr>\n",
              "  </thead>\n",
              "  <tbody>\n",
              "    <tr>\n",
              "      <th>Rating</th>\n",
              "      <td>1462</td>\n",
              "      <td>0.151393</td>\n",
              "    </tr>\n",
              "    <tr>\n",
              "      <th>Type</th>\n",
              "      <td>1</td>\n",
              "      <td>0.000104</td>\n",
              "    </tr>\n",
              "    <tr>\n",
              "      <th>Last_Updated_Days</th>\n",
              "      <td>0</td>\n",
              "      <td>0.000000</td>\n",
              "    </tr>\n",
              "    <tr>\n",
              "      <th>Android_Ver</th>\n",
              "      <td>0</td>\n",
              "      <td>0.000000</td>\n",
              "    </tr>\n",
              "    <tr>\n",
              "      <th>Last_Updated</th>\n",
              "      <td>0</td>\n",
              "      <td>0.000000</td>\n",
              "    </tr>\n",
              "    <tr>\n",
              "      <th>Genres</th>\n",
              "      <td>0</td>\n",
              "      <td>0.000000</td>\n",
              "    </tr>\n",
              "    <tr>\n",
              "      <th>Content_Rating</th>\n",
              "      <td>0</td>\n",
              "      <td>0.000000</td>\n",
              "    </tr>\n",
              "    <tr>\n",
              "      <th>Price</th>\n",
              "      <td>0</td>\n",
              "      <td>0.000000</td>\n",
              "    </tr>\n",
              "    <tr>\n",
              "      <th>Installs</th>\n",
              "      <td>0</td>\n",
              "      <td>0.000000</td>\n",
              "    </tr>\n",
              "    <tr>\n",
              "      <th>Size</th>\n",
              "      <td>0</td>\n",
              "      <td>0.000000</td>\n",
              "    </tr>\n",
              "    <tr>\n",
              "      <th>Reviews</th>\n",
              "      <td>0</td>\n",
              "      <td>0.000000</td>\n",
              "    </tr>\n",
              "    <tr>\n",
              "      <th>Category</th>\n",
              "      <td>0</td>\n",
              "      <td>0.000000</td>\n",
              "    </tr>\n",
              "    <tr>\n",
              "      <th>App</th>\n",
              "      <td>0</td>\n",
              "      <td>0.000000</td>\n",
              "    </tr>\n",
              "  </tbody>\n",
              "</table>\n",
              "</div>"
            ],
            "text/plain": [
              "                   total   percent\n",
              "Rating              1462  0.151393\n",
              "Type                   1  0.000104\n",
              "Last_Updated_Days      0  0.000000\n",
              "Android_Ver            0  0.000000\n",
              "Last_Updated           0  0.000000\n",
              "Genres                 0  0.000000\n",
              "Content_Rating         0  0.000000\n",
              "Price                  0  0.000000\n",
              "Installs               0  0.000000\n",
              "Size                   0  0.000000\n",
              "Reviews                0  0.000000\n",
              "Category               0  0.000000\n",
              "App                    0  0.000000"
            ]
          },
          "metadata": {
            "tags": []
          },
          "execution_count": 32
        }
      ]
    },
    {
      "cell_type": "markdown",
      "metadata": {
        "id": "Yg5eM0d2f7eZ",
        "colab_type": "text"
      },
      "source": [
        "A coluna **\"Rating\"** representa a classificação que o úsuario deu para o aplicativo, essa coluna tem cerca de 15% de valores faltantes, vamos entender melhor como essa classificação é feita.\n",
        "\n",
        "## **O que é classificar um app?**\n",
        "\n",
        "Na Play Store (loja de aplicativo da google), classificar um app significa deixar a sua nota de avaliação na página de dowloand do aplicativo com ou sem comentário, a base não possui uma coluna com os comentários.\n",
        "\n",
        "Não é obrigatório deixar uma classificação para o app mas isso ajuda e motiva os desenvolvedores.\n",
        "\n",
        "## **Como essa classificação é feita?**\n",
        "\n",
        "Basta clicar nas estrelas que você pretende deixar.\n",
        "\n",
        "![alt text](https://drive.google.com/uc?id=11_EhqLg7QWcK2I0OTRCHYWGTtZKTNDkU)\n",
        "\n",
        "##★☆☆☆☆ – Avaliação muito fraca\n",
        "O usuário não gostou da aplicação, contêm um número exagerado de propagandas e a aplicação não foi bem desenvolvida.\n",
        "\n",
        "##★★☆☆☆ – Avaliação fraca\n",
        "Ainda que seja uma avaliação fraca, o usuário pode ter gostado de alguma funcionalidade do app.\n",
        "\n",
        "##★★★☆☆ – Avaliação razoável\n",
        "O usuário considera que esse aplicativo cumpriu com a sua finalidade, mas precisa melhorar em alguns aspectos, como no desing por exemplo.\n",
        "\n",
        "##★★★★☆ – Avaliação boa\n",
        "Um app com 4 estrelas já é considerado muito bom, cumpre o que promete e foi bem desenvolvido.\n",
        "\n",
        "##★★★★★ – Avaliação ótima\n",
        "O usuário considera que esse app foi bem desenvolvido, tem um bom design, ótima navegação e suas funcionalidades são boas.\n",
        "\n",
        "\n",
        "\n",
        "\n",
        "\n",
        "\n",
        "\n",
        "\n"
      ]
    },
    {
      "cell_type": "markdown",
      "metadata": {
        "id": "QIcuSrygDDSl",
        "colab_type": "text"
      },
      "source": [
        "Depois que entendemos como essa avaliação é feita, vamos remover os valores faltantes, como eles não possuem uma classificação podemos concluir que esses aplicativos não são atraentes para os usuários.\n",
        "\n",
        "A coluna \"Type\" só tem um valor faltante que também será removido."
      ]
    },
    {
      "cell_type": "code",
      "metadata": {
        "id": "TM6D0yuf1HF6",
        "colab_type": "code",
        "colab": {}
      },
      "source": [
        "# Removendo os valores faltantes.\n",
        "df_app.dropna(axis = 0, how ='any', inplace = True)"
      ],
      "execution_count": 0,
      "outputs": []
    },
    {
      "cell_type": "code",
      "metadata": {
        "id": "c9wcOm0XMvjs",
        "colab_type": "code",
        "outputId": "ef83f555-913f-4efa-d512-26b9019760e9",
        "colab": {
          "base_uri": "https://localhost:8080/",
          "height": 452
        }
      },
      "source": [
        "# Verificando se os valores foram preenchidos corretamente\n",
        "missing_value(df_app)"
      ],
      "execution_count": 34,
      "outputs": [
        {
          "output_type": "execute_result",
          "data": {
            "text/html": [
              "<div>\n",
              "<style scoped>\n",
              "    .dataframe tbody tr th:only-of-type {\n",
              "        vertical-align: middle;\n",
              "    }\n",
              "\n",
              "    .dataframe tbody tr th {\n",
              "        vertical-align: top;\n",
              "    }\n",
              "\n",
              "    .dataframe thead th {\n",
              "        text-align: right;\n",
              "    }\n",
              "</style>\n",
              "<table border=\"1\" class=\"dataframe\">\n",
              "  <thead>\n",
              "    <tr style=\"text-align: right;\">\n",
              "      <th></th>\n",
              "      <th>total</th>\n",
              "      <th>percent</th>\n",
              "    </tr>\n",
              "  </thead>\n",
              "  <tbody>\n",
              "    <tr>\n",
              "      <th>Last_Updated_Days</th>\n",
              "      <td>0</td>\n",
              "      <td>0.0</td>\n",
              "    </tr>\n",
              "    <tr>\n",
              "      <th>Android_Ver</th>\n",
              "      <td>0</td>\n",
              "      <td>0.0</td>\n",
              "    </tr>\n",
              "    <tr>\n",
              "      <th>Last_Updated</th>\n",
              "      <td>0</td>\n",
              "      <td>0.0</td>\n",
              "    </tr>\n",
              "    <tr>\n",
              "      <th>Genres</th>\n",
              "      <td>0</td>\n",
              "      <td>0.0</td>\n",
              "    </tr>\n",
              "    <tr>\n",
              "      <th>Content_Rating</th>\n",
              "      <td>0</td>\n",
              "      <td>0.0</td>\n",
              "    </tr>\n",
              "    <tr>\n",
              "      <th>Price</th>\n",
              "      <td>0</td>\n",
              "      <td>0.0</td>\n",
              "    </tr>\n",
              "    <tr>\n",
              "      <th>Type</th>\n",
              "      <td>0</td>\n",
              "      <td>0.0</td>\n",
              "    </tr>\n",
              "    <tr>\n",
              "      <th>Installs</th>\n",
              "      <td>0</td>\n",
              "      <td>0.0</td>\n",
              "    </tr>\n",
              "    <tr>\n",
              "      <th>Size</th>\n",
              "      <td>0</td>\n",
              "      <td>0.0</td>\n",
              "    </tr>\n",
              "    <tr>\n",
              "      <th>Reviews</th>\n",
              "      <td>0</td>\n",
              "      <td>0.0</td>\n",
              "    </tr>\n",
              "    <tr>\n",
              "      <th>Rating</th>\n",
              "      <td>0</td>\n",
              "      <td>0.0</td>\n",
              "    </tr>\n",
              "    <tr>\n",
              "      <th>Category</th>\n",
              "      <td>0</td>\n",
              "      <td>0.0</td>\n",
              "    </tr>\n",
              "    <tr>\n",
              "      <th>App</th>\n",
              "      <td>0</td>\n",
              "      <td>0.0</td>\n",
              "    </tr>\n",
              "  </tbody>\n",
              "</table>\n",
              "</div>"
            ],
            "text/plain": [
              "                   total  percent\n",
              "Last_Updated_Days      0      0.0\n",
              "Android_Ver            0      0.0\n",
              "Last_Updated           0      0.0\n",
              "Genres                 0      0.0\n",
              "Content_Rating         0      0.0\n",
              "Price                  0      0.0\n",
              "Type                   0      0.0\n",
              "Installs               0      0.0\n",
              "Size                   0      0.0\n",
              "Reviews                0      0.0\n",
              "Rating                 0      0.0\n",
              "Category               0      0.0\n",
              "App                    0      0.0"
            ]
          },
          "metadata": {
            "tags": []
          },
          "execution_count": 34
        }
      ]
    },
    {
      "cell_type": "markdown",
      "metadata": {
        "id": "WUOsnYdWPg-o",
        "colab_type": "text"
      },
      "source": [
        "#**Análise Exploratória dos Dados (EDA)**"
      ]
    },
    {
      "cell_type": "markdown",
      "metadata": {
        "id": "U3FUPcIMbGgy",
        "colab_type": "text"
      },
      "source": [
        "###**Quais são as categorias que tem o maior número de aplicativos?**"
      ]
    },
    {
      "cell_type": "code",
      "metadata": {
        "id": "VF2esBlGk5LZ",
        "colab_type": "code",
        "outputId": "6508eb61-709e-4511-c841-d38879b49a91",
        "colab": {
          "base_uri": "https://localhost:8080/",
          "height": 580
        }
      },
      "source": [
        "plt.figure(figsize=(15,7))\n",
        "fig = sns.countplot(x=df_app.Category, palette=\"hls\")\n",
        "plt.xlabel('Categoria')\n",
        "plt.ylabel('Quantidade')\n",
        "plt.title('Total de aplicativos por categoria', size=20)\n",
        "fig.set_xticklabels(fig.get_xticklabels(),rotation=90)\n",
        "plt.show(fig)"
      ],
      "execution_count": 35,
      "outputs": [
        {
          "output_type": "display_data",
          "data": {
            "image/png": "[encoded data removed]",
            "text/plain": [
              "<Figure size 1080x504 with 1 Axes>"
            ]
          },
          "metadata": {
            "tags": []
          }
        }
      ]
    },
    {
      "cell_type": "markdown",
      "metadata": {
        "id": "lAVpGnQjBLPl",
        "colab_type": "text"
      },
      "source": [
        "**Family**, **Game** e **Tools** são as categorias com mais aplicativos."
      ]
    },
    {
      "cell_type": "code",
      "metadata": {
        "id": "mSp56O9enGbf",
        "colab_type": "code",
        "outputId": "e5555846-84bc-477b-e3eb-1c445475d9a2",
        "colab": {
          "base_uri": "https://localhost:8080/",
          "height": 517
        }
      },
      "source": [
        "# Wordcloud com a representação das categorias.\n",
        "wordcloud = WordCloud(max_font_size=350, collocations=False,width=1920, height=1080, background_color=\"black\").generate(' '.join(df_app.Category))\n",
        "plt.figure(figsize=(12,8))\n",
        "plt.imshow(wordcloud, interpolation=\"bilinear\")\n",
        "plt.axis(\"off\")\n",
        "plt.tight_layout(pad=0)\n",
        "plt.show()"
      ],
      "execution_count": 36,
      "outputs": [
        {
          "output_type": "display_data",
          "data": {
            "image/png": "[encoded data removed]",
            "text/plain": [
              "<Figure size 864x576 with 1 Axes>"
            ]
          },
          "metadata": {
            "tags": []
          }
        }
      ]
    },
    {
      "cell_type": "markdown",
      "metadata": {
        "id": "pm0HaGOc-Ddb",
        "colab_type": "text"
      },
      "source": [
        "###**Os aplicativos são direcionados para quais faixa etárias?**"
      ]
    },
    {
      "cell_type": "code",
      "metadata": {
        "id": "Vcw4dtv1qOFu",
        "colab_type": "code",
        "colab": {
          "base_uri": "https://localhost:8080/",
          "height": 534
        },
        "outputId": "6b2b9325-5e61-4f2f-ef75-e289a375c0a0"
      },
      "source": [
        "plt.figure(figsize=(15,7))\n",
        "fig = sns.countplot(x=df_app.Content_Rating, palette=\"hls\")\n",
        "plt.xlabel('Faixa etária')\n",
        "plt.ylabel('Quantidade')\n",
        "plt.title('Distribuição da faixa etária', size=20)\n",
        "fig.set_xticklabels(fig.get_xticklabels(),rotation=90)\n",
        "plt.show(fig)"
      ],
      "execution_count": 37,
      "outputs": [
        {
          "output_type": "display_data",
          "data": {
            "image/png": "[encoded data removed]",
            "text/plain": [
              "<Figure size 1080x504 with 1 Axes>"
            ]
          },
          "metadata": {
            "tags": []
          }
        }
      ]
    },
    {
      "cell_type": "markdown",
      "metadata": {
        "id": "Zub0VX6bBp9K",
        "colab_type": "text"
      },
      "source": [
        "A maioria dos aplicativos está disponível para todos os públicos."
      ]
    },
    {
      "cell_type": "markdown",
      "metadata": {
        "id": "6-zfWWVqF16H",
        "colab_type": "text"
      },
      "source": [
        "###**Qual o maior volume de downloads?**\n"
      ]
    },
    {
      "cell_type": "code",
      "metadata": {
        "id": "FjAiDICarWCR",
        "colab_type": "code",
        "colab": {
          "base_uri": "https://localhost:8080/",
          "height": 516
        },
        "outputId": "05def661-6a60-4dd6-9735-55c6363a6145"
      },
      "source": [
        "plt.figure(figsize=(15,7))\n",
        "fig = sns.countplot(x=df_app.Installs, palette=\"hls\")\n",
        "plt.xlabel('Número de downloads')\n",
        "plt.ylabel('Quantidade')\n",
        "plt.title('Distribuição dos downloads', size=20)\n",
        "fig.set_xticklabels(fig.get_xticklabels(),rotation=90)\n",
        "plt.show(fig)"
      ],
      "execution_count": 38,
      "outputs": [
        {
          "output_type": "display_data",
          "data": {
            "image/png": "[encoded data removed]",
            "text/plain": [
              "<Figure size 1080x504 with 1 Axes>"
            ]
          },
          "metadata": {
            "tags": []
          }
        }
      ]
    },
    {
      "cell_type": "markdown",
      "metadata": {
        "id": "-1E4IYFaDyHk",
        "colab_type": "text"
      },
      "source": [
        "Muitos aplicativos tiveram cerca de 1 milhão de downloads."
      ]
    },
    {
      "cell_type": "markdown",
      "metadata": {
        "id": "Qp0cXhqtSzKr",
        "colab_type": "text"
      },
      "source": [
        "###**Quais são os 15 aplicativos com o maior número de downloads?**"
      ]
    },
    {
      "cell_type": "code",
      "metadata": {
        "id": "xuEzKNI7MGZo",
        "colab_type": "code",
        "colab": {
          "base_uri": "https://localhost:8080/",
          "height": 442
        },
        "outputId": "639c82bd-a635-4ec8-d8bf-0ad94707fa3c"
      },
      "source": [
        "plt.figure(figsize=(15,7))\n",
        "ax=sns.barplot(y='App',x='Installs',data=df_app.head(15))\n",
        "plt.show()"
      ],
      "execution_count": 39,
      "outputs": [
        {
          "output_type": "display_data",
          "data": {
            "image/png": "[encoded data removed]",
            "text/plain": [
              "<Figure size 1080x504 with 1 Axes>"
            ]
          },
          "metadata": {
            "tags": []
          }
        }
      ]
    },
    {
      "cell_type": "code",
      "metadata": {
        "id": "McLJoUJRyNbD",
        "colab_type": "code",
        "colab": {
          "base_uri": "https://localhost:8080/",
          "height": 514
        },
        "outputId": "8fe14430-dc1a-4409-9aff-2b45f31978b6"
      },
      "source": [
        "# Os 15 aplicativos com mais downloads:\n",
        "df_app.sort_values(by=\"Installs\", ascending=False)[[\"App\", \"Installs\", \"Rating\"]].head(15)"
      ],
      "execution_count": 40,
      "outputs": [
        {
          "output_type": "execute_result",
          "data": {
            "text/html": [
              "<div>\n",
              "<style scoped>\n",
              "    .dataframe tbody tr th:only-of-type {\n",
              "        vertical-align: middle;\n",
              "    }\n",
              "\n",
              "    .dataframe tbody tr th {\n",
              "        vertical-align: top;\n",
              "    }\n",
              "\n",
              "    .dataframe thead th {\n",
              "        text-align: right;\n",
              "    }\n",
              "</style>\n",
              "<table border=\"1\" class=\"dataframe\">\n",
              "  <thead>\n",
              "    <tr style=\"text-align: right;\">\n",
              "      <th></th>\n",
              "      <th>App</th>\n",
              "      <th>Installs</th>\n",
              "      <th>Rating</th>\n",
              "    </tr>\n",
              "  </thead>\n",
              "  <tbody>\n",
              "    <tr>\n",
              "      <th>0</th>\n",
              "      <td>Facebook</td>\n",
              "      <td>1000000000</td>\n",
              "      <td>4.1</td>\n",
              "    </tr>\n",
              "    <tr>\n",
              "      <th>22</th>\n",
              "      <td>Google Photos</td>\n",
              "      <td>1000000000</td>\n",
              "      <td>4.5</td>\n",
              "    </tr>\n",
              "    <tr>\n",
              "      <th>251</th>\n",
              "      <td>Google Play Books</td>\n",
              "      <td>1000000000</td>\n",
              "      <td>3.9</td>\n",
              "    </tr>\n",
              "    <tr>\n",
              "      <th>89</th>\n",
              "      <td>Google+</td>\n",
              "      <td>1000000000</td>\n",
              "      <td>4.2</td>\n",
              "    </tr>\n",
              "    <tr>\n",
              "      <th>93</th>\n",
              "      <td>Gmail</td>\n",
              "      <td>1000000000</td>\n",
              "      <td>4.3</td>\n",
              "    </tr>\n",
              "    <tr>\n",
              "      <th>1</th>\n",
              "      <td>WhatsApp Messenger</td>\n",
              "      <td>1000000000</td>\n",
              "      <td>4.4</td>\n",
              "    </tr>\n",
              "    <tr>\n",
              "      <th>188</th>\n",
              "      <td>Google Street View</td>\n",
              "      <td>1000000000</td>\n",
              "      <td>4.2</td>\n",
              "    </tr>\n",
              "    <tr>\n",
              "      <th>51</th>\n",
              "      <td>Google Play Games</td>\n",
              "      <td>1000000000</td>\n",
              "      <td>4.3</td>\n",
              "    </tr>\n",
              "    <tr>\n",
              "      <th>377</th>\n",
              "      <td>Google Play Movies &amp; TV</td>\n",
              "      <td>1000000000</td>\n",
              "      <td>3.7</td>\n",
              "    </tr>\n",
              "    <tr>\n",
              "      <th>388</th>\n",
              "      <td>Google News</td>\n",
              "      <td>1000000000</td>\n",
              "      <td>3.9</td>\n",
              "    </tr>\n",
              "    <tr>\n",
              "      <th>123</th>\n",
              "      <td>Hangouts</td>\n",
              "      <td>1000000000</td>\n",
              "      <td>4.0</td>\n",
              "    </tr>\n",
              "    <tr>\n",
              "      <th>34</th>\n",
              "      <td>Maps - Navigate &amp; Explore</td>\n",
              "      <td>1000000000</td>\n",
              "      <td>4.3</td>\n",
              "    </tr>\n",
              "    <tr>\n",
              "      <th>33</th>\n",
              "      <td>Google Chrome: Fast &amp; Secure</td>\n",
              "      <td>1000000000</td>\n",
              "      <td>4.3</td>\n",
              "    </tr>\n",
              "    <tr>\n",
              "      <th>151</th>\n",
              "      <td>Google Drive</td>\n",
              "      <td>1000000000</td>\n",
              "      <td>4.4</td>\n",
              "    </tr>\n",
              "    <tr>\n",
              "      <th>25</th>\n",
              "      <td>Skype - free IM &amp; video calls</td>\n",
              "      <td>1000000000</td>\n",
              "      <td>4.1</td>\n",
              "    </tr>\n",
              "  </tbody>\n",
              "</table>\n",
              "</div>"
            ],
            "text/plain": [
              "                               App    Installs  Rating\n",
              "0                         Facebook  1000000000     4.1\n",
              "22                   Google Photos  1000000000     4.5\n",
              "251              Google Play Books  1000000000     3.9\n",
              "89                         Google+  1000000000     4.2\n",
              "93                           Gmail  1000000000     4.3\n",
              "1               WhatsApp Messenger  1000000000     4.4\n",
              "188             Google Street View  1000000000     4.2\n",
              "51               Google Play Games  1000000000     4.3\n",
              "377        Google Play Movies & TV  1000000000     3.7\n",
              "388                    Google News  1000000000     3.9\n",
              "123                       Hangouts  1000000000     4.0\n",
              "34       Maps - Navigate & Explore  1000000000     4.3\n",
              "33    Google Chrome: Fast & Secure  1000000000     4.3\n",
              "151                   Google Drive  1000000000     4.4\n",
              "25   Skype - free IM & video calls  1000000000     4.1"
            ]
          },
          "metadata": {
            "tags": []
          },
          "execution_count": 40
        }
      ]
    },
    {
      "cell_type": "markdown",
      "metadata": {
        "id": "Gp8t62mHS4ik",
        "colab_type": "text"
      },
      "source": [
        "###**Quais são os 15 aplicativos com as maiores avaliações?**"
      ]
    },
    {
      "cell_type": "code",
      "metadata": {
        "id": "qtpbIVwl5CYE",
        "colab_type": "code",
        "colab": {
          "base_uri": "https://localhost:8080/",
          "height": 442
        },
        "outputId": "5fdf1959-8834-405c-cc17-e0322f9084b0"
      },
      "source": [
        "plt.figure(figsize=(15,7))\n",
        "ax=sns.barplot(y='App',x='Reviews',data=df_app.head(15))\n",
        "plt.show()\n"
      ],
      "execution_count": 41,
      "outputs": [
        {
          "output_type": "display_data",
          "data": {
            "image/png": "[encoded data removed]",
            "text/plain": [
              "<Figure size 1080x504 with 1 Axes>"
            ]
          },
          "metadata": {
            "tags": []
          }
        }
      ]
    },
    {
      "cell_type": "code",
      "metadata": {
        "id": "RS77JcolFilK",
        "colab_type": "code",
        "colab": {
          "base_uri": "https://localhost:8080/",
          "height": 514
        },
        "outputId": "dfa00f3a-7702-4e36-8cfb-8f4c0c6d59b0"
      },
      "source": [
        "# Os 15 aplicativos com mais avaliações:\n",
        "df_app.sort_values(by=\"Reviews\", ascending=False)[[\"App\", \"Reviews\", \"Rating\"]].head(15)"
      ],
      "execution_count": 42,
      "outputs": [
        {
          "output_type": "execute_result",
          "data": {
            "text/html": [
              "<div>\n",
              "<style scoped>\n",
              "    .dataframe tbody tr th:only-of-type {\n",
              "        vertical-align: middle;\n",
              "    }\n",
              "\n",
              "    .dataframe tbody tr th {\n",
              "        vertical-align: top;\n",
              "    }\n",
              "\n",
              "    .dataframe thead th {\n",
              "        text-align: right;\n",
              "    }\n",
              "</style>\n",
              "<table border=\"1\" class=\"dataframe\">\n",
              "  <thead>\n",
              "    <tr style=\"text-align: right;\">\n",
              "      <th></th>\n",
              "      <th>App</th>\n",
              "      <th>Reviews</th>\n",
              "      <th>Rating</th>\n",
              "    </tr>\n",
              "  </thead>\n",
              "  <tbody>\n",
              "    <tr>\n",
              "      <th>0</th>\n",
              "      <td>Facebook</td>\n",
              "      <td>78158306</td>\n",
              "      <td>4.1</td>\n",
              "    </tr>\n",
              "    <tr>\n",
              "      <th>1</th>\n",
              "      <td>WhatsApp Messenger</td>\n",
              "      <td>69119316</td>\n",
              "      <td>4.4</td>\n",
              "    </tr>\n",
              "    <tr>\n",
              "      <th>2</th>\n",
              "      <td>Instagram</td>\n",
              "      <td>66577446</td>\n",
              "      <td>4.5</td>\n",
              "    </tr>\n",
              "    <tr>\n",
              "      <th>3</th>\n",
              "      <td>Messenger – Text and Video Chat for Free</td>\n",
              "      <td>56646578</td>\n",
              "      <td>4.0</td>\n",
              "    </tr>\n",
              "    <tr>\n",
              "      <th>4</th>\n",
              "      <td>Clash of Clans</td>\n",
              "      <td>44893888</td>\n",
              "      <td>4.6</td>\n",
              "    </tr>\n",
              "    <tr>\n",
              "      <th>5</th>\n",
              "      <td>Clean Master- Space Cleaner &amp; Antivirus</td>\n",
              "      <td>42916526</td>\n",
              "      <td>4.7</td>\n",
              "    </tr>\n",
              "    <tr>\n",
              "      <th>6</th>\n",
              "      <td>Subway Surfers</td>\n",
              "      <td>27725352</td>\n",
              "      <td>4.5</td>\n",
              "    </tr>\n",
              "    <tr>\n",
              "      <th>7</th>\n",
              "      <td>YouTube</td>\n",
              "      <td>25655305</td>\n",
              "      <td>4.3</td>\n",
              "    </tr>\n",
              "    <tr>\n",
              "      <th>8</th>\n",
              "      <td>Security Master - Antivirus, VPN, AppLock, Boo...</td>\n",
              "      <td>24900999</td>\n",
              "      <td>4.7</td>\n",
              "    </tr>\n",
              "    <tr>\n",
              "      <th>9</th>\n",
              "      <td>Clash Royale</td>\n",
              "      <td>23136735</td>\n",
              "      <td>4.6</td>\n",
              "    </tr>\n",
              "    <tr>\n",
              "      <th>10</th>\n",
              "      <td>Candy Crush Saga</td>\n",
              "      <td>22430188</td>\n",
              "      <td>4.4</td>\n",
              "    </tr>\n",
              "    <tr>\n",
              "      <th>11</th>\n",
              "      <td>UC Browser - Fast Download Private &amp; Secure</td>\n",
              "      <td>17714850</td>\n",
              "      <td>4.5</td>\n",
              "    </tr>\n",
              "    <tr>\n",
              "      <th>12</th>\n",
              "      <td>Snapchat</td>\n",
              "      <td>17015352</td>\n",
              "      <td>4.0</td>\n",
              "    </tr>\n",
              "    <tr>\n",
              "      <th>13</th>\n",
              "      <td>360 Security - Free Antivirus, Booster, Cleaner</td>\n",
              "      <td>16771865</td>\n",
              "      <td>4.6</td>\n",
              "    </tr>\n",
              "    <tr>\n",
              "      <th>14</th>\n",
              "      <td>My Talking Tom</td>\n",
              "      <td>14892469</td>\n",
              "      <td>4.5</td>\n",
              "    </tr>\n",
              "  </tbody>\n",
              "</table>\n",
              "</div>"
            ],
            "text/plain": [
              "                                                  App   Reviews  Rating\n",
              "0                                            Facebook  78158306     4.1\n",
              "1                                  WhatsApp Messenger  69119316     4.4\n",
              "2                                           Instagram  66577446     4.5\n",
              "3            Messenger – Text and Video Chat for Free  56646578     4.0\n",
              "4                                      Clash of Clans  44893888     4.6\n",
              "5             Clean Master- Space Cleaner & Antivirus  42916526     4.7\n",
              "6                                      Subway Surfers  27725352     4.5\n",
              "7                                             YouTube  25655305     4.3\n",
              "8   Security Master - Antivirus, VPN, AppLock, Boo...  24900999     4.7\n",
              "9                                        Clash Royale  23136735     4.6\n",
              "10                                   Candy Crush Saga  22430188     4.4\n",
              "11        UC Browser - Fast Download Private & Secure  17714850     4.5\n",
              "12                                           Snapchat  17015352     4.0\n",
              "13    360 Security - Free Antivirus, Booster, Cleaner  16771865     4.6\n",
              "14                                     My Talking Tom  14892469     4.5"
            ]
          },
          "metadata": {
            "tags": []
          },
          "execution_count": 42
        }
      ]
    },
    {
      "cell_type": "markdown",
      "metadata": {
        "id": "_vid1T5PJXEg",
        "colab_type": "text"
      },
      "source": [
        "As maiores avaliações são para os aplicativos de rede social, o campeão é o Facebook."
      ]
    },
    {
      "cell_type": "markdown",
      "metadata": {
        "id": "HvvR0o21LDal",
        "colab_type": "text"
      },
      "source": [
        "\n",
        "\n",
        "![alt text](https://drive.google.com/uc?id=1xN_yspozJbvMn_dXIEP4uWEEmadJz_dB)"
      ]
    },
    {
      "cell_type": "markdown",
      "metadata": {
        "id": "CzxYox_5H9f5",
        "colab_type": "text"
      },
      "source": [
        "###**A loja tem mais aplicativos pagos ou gratuitos?**"
      ]
    },
    {
      "cell_type": "code",
      "metadata": {
        "id": "buopL4JlrcqA",
        "colab_type": "code",
        "colab": {
          "base_uri": "https://localhost:8080/",
          "height": 530
        },
        "outputId": "71833878-4b46-47a4-cdd8-4b028785ea3a"
      },
      "source": [
        "plt.figure(figsize=(10,8))\n",
        "fig = sns.countplot(x=df_app.Type,  palette=\"hls\")\n",
        "plt.xlabel('Tipo')\n",
        "plt.ylabel('Quantidade')\n",
        "plt.title('App Free X App Paid', size=20)\n",
        "fig.set_xticklabels(fig.get_xticklabels(),rotation=90)\n",
        "plt.show(fig)"
      ],
      "execution_count": 43,
      "outputs": [
        {
          "output_type": "display_data",
          "data": {
            "image/png": "[encoded data removed]",
            "text/plain": [
              "<Figure size 720x576 with 1 Axes>"
            ]
          },
          "metadata": {
            "tags": []
          }
        }
      ]
    },
    {
      "cell_type": "markdown",
      "metadata": {
        "id": "hj6F8G1GCKhZ",
        "colab_type": "text"
      },
      "source": [
        "A maioria dos aplicativos da Play Store são gratuitos."
      ]
    },
    {
      "cell_type": "markdown",
      "metadata": {
        "id": "SnMFycmSPPnV",
        "colab_type": "text"
      },
      "source": [
        "###**Entre os aplicativos pagos quais são os preços mais frequentes?**"
      ]
    },
    {
      "cell_type": "code",
      "metadata": {
        "id": "PTtoNXtHvQlk",
        "colab_type": "code",
        "colab": {
          "base_uri": "https://localhost:8080/",
          "height": 490
        },
        "outputId": "09897da6-cac0-4a13-abad-d7ebe5c5682d"
      },
      "source": [
        "plt.figure(figsize=(15,7))\n",
        "price_app = df_app[df_app.Price != 0.0]\n",
        "price_plot = sns.countplot(price_app.Price, palette = \"hls\")\n",
        "plt.xlabel('Preço')\n",
        "plt.ylabel('Quantidade')\n",
        "plt.title('Número de aplicativos por preço',size = 20)\n",
        "price_plot.set_xticklabels(price_plot.get_xticklabels(), rotation=90, ha=\"right\")\n",
        "plt.show(fig)"
      ],
      "execution_count": 44,
      "outputs": [
        {
          "output_type": "display_data",
          "data": {
            "image/png": "[encoded data removed]",
            "text/plain": [
              "<Figure size 1080x504 with 1 Axes>"
            ]
          },
          "metadata": {
            "tags": []
          }
        }
      ]
    },
    {
      "cell_type": "markdown",
      "metadata": {
        "id": "NItv4FxHCxlo",
        "colab_type": "text"
      },
      "source": [
        "Filtramos somente os aplicativos pagos para poder observar a sua distribuição. Há um número elevado de aplicativos que custam 0.99 e 3.02 dólares. "
      ]
    },
    {
      "cell_type": "markdown",
      "metadata": {
        "id": "Vf4GC4_6Ihuo",
        "colab_type": "text"
      },
      "source": [
        "###**Quais são as classificações mais frequentes?**"
      ]
    },
    {
      "cell_type": "code",
      "metadata": {
        "id": "U4KHMeXUw2PN",
        "colab_type": "code",
        "colab": {
          "base_uri": "https://localhost:8080/",
          "height": 469
        },
        "outputId": "d66c974f-2d6e-4625-ae93-a70edcf09c00"
      },
      "source": [
        "plt.figure(figsize=(15,7))\n",
        "ratings = sns.countplot(x=\"Rating\",data=df_app, palette = \"hls\")\n",
        "ratings.set_xticklabels(ratings.get_xticklabels(), rotation=90, ha=\"right\")\n",
        "plt.xlabel('Classificação')\n",
        "plt.ylabel('Quantidade')\n",
        "plt.title('Distribuição da classificação',size = 20)\n",
        "plt.show(fig)"
      ],
      "execution_count": 45,
      "outputs": [
        {
          "output_type": "display_data",
          "data": {
            "image/png": "[encoded data removed]",
            "text/plain": [
              "<Figure size 1080x504 with 1 Axes>"
            ]
          },
          "metadata": {
            "tags": []
          }
        }
      ]
    },
    {
      "cell_type": "markdown",
      "metadata": {
        "id": "5HfOT38WEIUI",
        "colab_type": "text"
      },
      "source": [
        "A distribuição da classificação está entre 4.0 e 4.7."
      ]
    },
    {
      "cell_type": "markdown",
      "metadata": {
        "id": "FB8sXKThRrKD",
        "colab_type": "text"
      },
      "source": [
        "##**Conclusão**"
      ]
    },
    {
      "cell_type": "markdown",
      "metadata": {
        "id": "nhROgKn0XNlW",
        "colab_type": "text"
      },
      "source": [
        "Depois de toda essa análise podemos concluir que os aplicativos voltados para rede social e games são os que mais atraem os usuários, então um desenvolvedor pode usar essa análise como base para criar seu próximo aplicativo.\n",
        "\n"
      ]
    }
  ]
}